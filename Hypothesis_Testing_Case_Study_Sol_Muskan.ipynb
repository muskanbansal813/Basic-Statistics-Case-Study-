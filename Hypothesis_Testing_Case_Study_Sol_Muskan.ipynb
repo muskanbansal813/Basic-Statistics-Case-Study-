{
 "cells": [
  {
   "cell_type": "code",
   "execution_count": 1,
   "id": "1a29ebd7",
   "metadata": {},
   "outputs": [],
   "source": [
    "# Hypothesis case Study"
   ]
  },
  {
   "cell_type": "code",
   "execution_count": 2,
   "id": "836eccf7",
   "metadata": {},
   "outputs": [],
   "source": [
    "import os\n",
    "import pandas as pd\n",
    "import numpy as np\n",
    "import matplotlib.pyplot as plt\n",
    "%matplotlib inline\n",
    "import seaborn as sns\n",
    "import warnings\n",
    "warnings.filterwarnings(\"ignore\")\n",
    "\n",
    "from scipy import stats"
   ]
  },
  {
   "cell_type": "raw",
   "id": "ca88f329",
   "metadata": {},
   "source": [
    "\"Business Problem1 \n",
    "\n",
    "Qd. Need to convert the FICO range by splitting it into float, then create subset of ownership category such mortgage,Rent etc and take mean to pass it anova function\n",
    "\"\"Business Problem 1 \n",
    "Q.3 we have to find the relationship between FICO Score and Home owner ship, FICO is numerical value and Home ownership is categorical ,so we can use ANOVA.......................done\n",
    "\n",
    "Business Problem5 Q1. \"\"What is the overall level of customer satisfaction? --Expected is to perform the satisfaction score at population level with 95% confidence interval with (mean+1.96*SE ,mean-1.96* SE) as mention overall level\""
   ]
  },
  {
   "cell_type": "markdown",
   "id": "84597a8f",
   "metadata": {},
   "source": [
    "## BUSINESS PROBLEM-1"
   ]
  },
  {
   "cell_type": "raw",
   "id": "335353af",
   "metadata": {},
   "source": [
    "BACKGROUND: The Lending Club is a peer-to-peer lending site where members make loans to each other. The site makes anonymized data on loans and borrowers publicly available. \n",
    "\n",
    "\n",
    "BUSINESS PROBLEM:\n",
    "\n",
    "Using lending club loans data, the team would like to test below hypothesis on how different factors effecing each other (Hint: You may leverage hypothesis testing using statistical tests)"
   ]
  },
  {
   "cell_type": "code",
   "execution_count": 3,
   "id": "4c490518",
   "metadata": {},
   "outputs": [],
   "source": [
    "os.chdir('C:\\\\Users\\\\DELL\\\\Downloads\\\\Python Notebook\\\\4. Basic Statistics - Hypothesis Testing')"
   ]
  },
  {
   "cell_type": "code",
   "execution_count": 4,
   "id": "6f96bf7a",
   "metadata": {},
   "outputs": [],
   "source": [
    "Loans_data = pd.read_csv('LoansData.csv')"
   ]
  },
  {
   "cell_type": "markdown",
   "id": "04c28cec",
   "metadata": {},
   "source": [
    "### EDA Analysis"
   ]
  },
  {
   "cell_type": "code",
   "execution_count": 5,
   "id": "48917b22",
   "metadata": {},
   "outputs": [
    {
     "data": {
      "text/html": [
       "<div>\n",
       "<style scoped>\n",
       "    .dataframe tbody tr th:only-of-type {\n",
       "        vertical-align: middle;\n",
       "    }\n",
       "\n",
       "    .dataframe tbody tr th {\n",
       "        vertical-align: top;\n",
       "    }\n",
       "\n",
       "    .dataframe thead th {\n",
       "        text-align: right;\n",
       "    }\n",
       "</style>\n",
       "<table border=\"1\" class=\"dataframe\">\n",
       "  <thead>\n",
       "    <tr style=\"text-align: right;\">\n",
       "      <th></th>\n",
       "      <th>Amount.Requested</th>\n",
       "      <th>Amount.Funded.By.Investors</th>\n",
       "      <th>Interest.Rate</th>\n",
       "      <th>Loan.Length</th>\n",
       "      <th>Loan.Purpose</th>\n",
       "      <th>Debt.To.Income.Ratio</th>\n",
       "      <th>State</th>\n",
       "      <th>Home.Ownership</th>\n",
       "      <th>Monthly.Income</th>\n",
       "      <th>FICO.Range</th>\n",
       "      <th>Open.CREDIT.Lines</th>\n",
       "      <th>Revolving.CREDIT.Balance</th>\n",
       "      <th>Inquiries.in.the.Last.6.Months</th>\n",
       "      <th>Employment.Length</th>\n",
       "    </tr>\n",
       "  </thead>\n",
       "  <tbody>\n",
       "    <tr>\n",
       "      <th>0</th>\n",
       "      <td>20000.0</td>\n",
       "      <td>20000.0</td>\n",
       "      <td>8.90%</td>\n",
       "      <td>36 months</td>\n",
       "      <td>debt_consolidation</td>\n",
       "      <td>14.90%</td>\n",
       "      <td>SC</td>\n",
       "      <td>MORTGAGE</td>\n",
       "      <td>6541.67</td>\n",
       "      <td>735-739</td>\n",
       "      <td>14.0</td>\n",
       "      <td>14272.0</td>\n",
       "      <td>2.0</td>\n",
       "      <td>&lt; 1 year</td>\n",
       "    </tr>\n",
       "    <tr>\n",
       "      <th>1</th>\n",
       "      <td>19200.0</td>\n",
       "      <td>19200.0</td>\n",
       "      <td>12.12%</td>\n",
       "      <td>36 months</td>\n",
       "      <td>debt_consolidation</td>\n",
       "      <td>28.36%</td>\n",
       "      <td>TX</td>\n",
       "      <td>MORTGAGE</td>\n",
       "      <td>4583.33</td>\n",
       "      <td>715-719</td>\n",
       "      <td>12.0</td>\n",
       "      <td>11140.0</td>\n",
       "      <td>1.0</td>\n",
       "      <td>2 years</td>\n",
       "    </tr>\n",
       "    <tr>\n",
       "      <th>2</th>\n",
       "      <td>35000.0</td>\n",
       "      <td>35000.0</td>\n",
       "      <td>21.98%</td>\n",
       "      <td>60 months</td>\n",
       "      <td>debt_consolidation</td>\n",
       "      <td>23.81%</td>\n",
       "      <td>CA</td>\n",
       "      <td>MORTGAGE</td>\n",
       "      <td>11500.00</td>\n",
       "      <td>690-694</td>\n",
       "      <td>14.0</td>\n",
       "      <td>21977.0</td>\n",
       "      <td>1.0</td>\n",
       "      <td>2 years</td>\n",
       "    </tr>\n",
       "    <tr>\n",
       "      <th>3</th>\n",
       "      <td>10000.0</td>\n",
       "      <td>9975.0</td>\n",
       "      <td>9.99%</td>\n",
       "      <td>36 months</td>\n",
       "      <td>debt_consolidation</td>\n",
       "      <td>14.30%</td>\n",
       "      <td>KS</td>\n",
       "      <td>MORTGAGE</td>\n",
       "      <td>3833.33</td>\n",
       "      <td>695-699</td>\n",
       "      <td>10.0</td>\n",
       "      <td>9346.0</td>\n",
       "      <td>0.0</td>\n",
       "      <td>5 years</td>\n",
       "    </tr>\n",
       "    <tr>\n",
       "      <th>4</th>\n",
       "      <td>12000.0</td>\n",
       "      <td>12000.0</td>\n",
       "      <td>11.71%</td>\n",
       "      <td>36 months</td>\n",
       "      <td>credit_card</td>\n",
       "      <td>18.78%</td>\n",
       "      <td>NJ</td>\n",
       "      <td>RENT</td>\n",
       "      <td>3195.00</td>\n",
       "      <td>695-699</td>\n",
       "      <td>11.0</td>\n",
       "      <td>14469.0</td>\n",
       "      <td>0.0</td>\n",
       "      <td>9 years</td>\n",
       "    </tr>\n",
       "  </tbody>\n",
       "</table>\n",
       "</div>"
      ],
      "text/plain": [
       "   Amount.Requested  Amount.Funded.By.Investors Interest.Rate Loan.Length  \\\n",
       "0           20000.0                     20000.0         8.90%   36 months   \n",
       "1           19200.0                     19200.0        12.12%   36 months   \n",
       "2           35000.0                     35000.0        21.98%   60 months   \n",
       "3           10000.0                      9975.0         9.99%   36 months   \n",
       "4           12000.0                     12000.0        11.71%   36 months   \n",
       "\n",
       "         Loan.Purpose Debt.To.Income.Ratio State Home.Ownership  \\\n",
       "0  debt_consolidation               14.90%    SC       MORTGAGE   \n",
       "1  debt_consolidation               28.36%    TX       MORTGAGE   \n",
       "2  debt_consolidation               23.81%    CA       MORTGAGE   \n",
       "3  debt_consolidation               14.30%    KS       MORTGAGE   \n",
       "4         credit_card               18.78%    NJ           RENT   \n",
       "\n",
       "   Monthly.Income FICO.Range  Open.CREDIT.Lines  Revolving.CREDIT.Balance  \\\n",
       "0         6541.67    735-739               14.0                   14272.0   \n",
       "1         4583.33    715-719               12.0                   11140.0   \n",
       "2        11500.00    690-694               14.0                   21977.0   \n",
       "3         3833.33    695-699               10.0                    9346.0   \n",
       "4         3195.00    695-699               11.0                   14469.0   \n",
       "\n",
       "   Inquiries.in.the.Last.6.Months Employment.Length  \n",
       "0                             2.0          < 1 year  \n",
       "1                             1.0           2 years  \n",
       "2                             1.0           2 years  \n",
       "3                             0.0           5 years  \n",
       "4                             0.0           9 years  "
      ]
     },
     "execution_count": 5,
     "metadata": {},
     "output_type": "execute_result"
    }
   ],
   "source": [
    "Loans_data.head()"
   ]
  },
  {
   "cell_type": "code",
   "execution_count": 6,
   "id": "8e01c29e",
   "metadata": {},
   "outputs": [
    {
     "data": {
      "text/plain": [
       "(2500, 14)"
      ]
     },
     "execution_count": 6,
     "metadata": {},
     "output_type": "execute_result"
    }
   ],
   "source": [
    "Loans_data.shape"
   ]
  },
  {
   "cell_type": "code",
   "execution_count": 7,
   "id": "c6e4b735",
   "metadata": {},
   "outputs": [
    {
     "data": {
      "text/plain": [
       "Index(['Amount.Requested', 'Amount.Funded.By.Investors', 'Interest.Rate',\n",
       "       'Loan.Length', 'Loan.Purpose', 'Debt.To.Income.Ratio', 'State',\n",
       "       'Home.Ownership', 'Monthly.Income', 'FICO.Range', 'Open.CREDIT.Lines',\n",
       "       'Revolving.CREDIT.Balance', 'Inquiries.in.the.Last.6.Months',\n",
       "       'Employment.Length'],\n",
       "      dtype='object')"
      ]
     },
     "execution_count": 7,
     "metadata": {},
     "output_type": "execute_result"
    }
   ],
   "source": [
    "Loans_data.columns"
   ]
  },
  {
   "cell_type": "code",
   "execution_count": 8,
   "id": "81e16a80",
   "metadata": {},
   "outputs": [
    {
     "name": "stdout",
     "output_type": "stream",
     "text": [
      "<class 'pandas.core.frame.DataFrame'>\n",
      "RangeIndex: 2500 entries, 0 to 2499\n",
      "Data columns (total 14 columns):\n",
      " #   Column                          Non-Null Count  Dtype  \n",
      "---  ------                          --------------  -----  \n",
      " 0   Amount.Requested                2499 non-null   float64\n",
      " 1   Amount.Funded.By.Investors      2499 non-null   float64\n",
      " 2   Interest.Rate                   2498 non-null   object \n",
      " 3   Loan.Length                     2500 non-null   object \n",
      " 4   Loan.Purpose                    2500 non-null   object \n",
      " 5   Debt.To.Income.Ratio            2499 non-null   object \n",
      " 6   State                           2500 non-null   object \n",
      " 7   Home.Ownership                  2499 non-null   object \n",
      " 8   Monthly.Income                  2499 non-null   float64\n",
      " 9   FICO.Range                      2498 non-null   object \n",
      " 10  Open.CREDIT.Lines               2497 non-null   float64\n",
      " 11  Revolving.CREDIT.Balance        2497 non-null   float64\n",
      " 12  Inquiries.in.the.Last.6.Months  2497 non-null   float64\n",
      " 13  Employment.Length               2423 non-null   object \n",
      "dtypes: float64(6), object(8)\n",
      "memory usage: 273.6+ KB\n"
     ]
    }
   ],
   "source": [
    "Loans_data.info()"
   ]
  },
  {
   "cell_type": "code",
   "execution_count": 9,
   "id": "55ba2c9c",
   "metadata": {},
   "outputs": [
    {
     "data": {
      "text/html": [
       "<div>\n",
       "<style scoped>\n",
       "    .dataframe tbody tr th:only-of-type {\n",
       "        vertical-align: middle;\n",
       "    }\n",
       "\n",
       "    .dataframe tbody tr th {\n",
       "        vertical-align: top;\n",
       "    }\n",
       "\n",
       "    .dataframe thead th {\n",
       "        text-align: right;\n",
       "    }\n",
       "</style>\n",
       "<table border=\"1\" class=\"dataframe\">\n",
       "  <thead>\n",
       "    <tr style=\"text-align: right;\">\n",
       "      <th></th>\n",
       "      <th>count</th>\n",
       "      <th>mean</th>\n",
       "      <th>std</th>\n",
       "      <th>min</th>\n",
       "      <th>25%</th>\n",
       "      <th>50%</th>\n",
       "      <th>75%</th>\n",
       "      <th>max</th>\n",
       "    </tr>\n",
       "  </thead>\n",
       "  <tbody>\n",
       "    <tr>\n",
       "      <th>Amount.Requested</th>\n",
       "      <td>2499.0</td>\n",
       "      <td>12405.462185</td>\n",
       "      <td>7802.933666</td>\n",
       "      <td>1000.00</td>\n",
       "      <td>6000.0</td>\n",
       "      <td>10000.0</td>\n",
       "      <td>17000.0</td>\n",
       "      <td>35000.0</td>\n",
       "    </tr>\n",
       "    <tr>\n",
       "      <th>Amount.Funded.By.Investors</th>\n",
       "      <td>2499.0</td>\n",
       "      <td>12002.374186</td>\n",
       "      <td>7746.767348</td>\n",
       "      <td>-0.01</td>\n",
       "      <td>6000.0</td>\n",
       "      <td>10000.0</td>\n",
       "      <td>16000.0</td>\n",
       "      <td>35000.0</td>\n",
       "    </tr>\n",
       "    <tr>\n",
       "      <th>Monthly.Income</th>\n",
       "      <td>2499.0</td>\n",
       "      <td>5688.931321</td>\n",
       "      <td>3963.118185</td>\n",
       "      <td>588.50</td>\n",
       "      <td>3500.0</td>\n",
       "      <td>5000.0</td>\n",
       "      <td>6800.0</td>\n",
       "      <td>102750.0</td>\n",
       "    </tr>\n",
       "    <tr>\n",
       "      <th>Open.CREDIT.Lines</th>\n",
       "      <td>2497.0</td>\n",
       "      <td>10.072887</td>\n",
       "      <td>4.507416</td>\n",
       "      <td>2.00</td>\n",
       "      <td>7.0</td>\n",
       "      <td>9.0</td>\n",
       "      <td>13.0</td>\n",
       "      <td>38.0</td>\n",
       "    </tr>\n",
       "    <tr>\n",
       "      <th>Revolving.CREDIT.Balance</th>\n",
       "      <td>2497.0</td>\n",
       "      <td>15223.184622</td>\n",
       "      <td>18281.015258</td>\n",
       "      <td>0.00</td>\n",
       "      <td>5584.0</td>\n",
       "      <td>10948.0</td>\n",
       "      <td>18861.0</td>\n",
       "      <td>270800.0</td>\n",
       "    </tr>\n",
       "    <tr>\n",
       "      <th>Inquiries.in.the.Last.6.Months</th>\n",
       "      <td>2497.0</td>\n",
       "      <td>0.906688</td>\n",
       "      <td>1.231149</td>\n",
       "      <td>0.00</td>\n",
       "      <td>0.0</td>\n",
       "      <td>0.0</td>\n",
       "      <td>1.0</td>\n",
       "      <td>9.0</td>\n",
       "    </tr>\n",
       "  </tbody>\n",
       "</table>\n",
       "</div>"
      ],
      "text/plain": [
       "                                 count          mean           std      min  \\\n",
       "Amount.Requested                2499.0  12405.462185   7802.933666  1000.00   \n",
       "Amount.Funded.By.Investors      2499.0  12002.374186   7746.767348    -0.01   \n",
       "Monthly.Income                  2499.0   5688.931321   3963.118185   588.50   \n",
       "Open.CREDIT.Lines               2497.0     10.072887      4.507416     2.00   \n",
       "Revolving.CREDIT.Balance        2497.0  15223.184622  18281.015258     0.00   \n",
       "Inquiries.in.the.Last.6.Months  2497.0      0.906688      1.231149     0.00   \n",
       "\n",
       "                                   25%      50%      75%       max  \n",
       "Amount.Requested                6000.0  10000.0  17000.0   35000.0  \n",
       "Amount.Funded.By.Investors      6000.0  10000.0  16000.0   35000.0  \n",
       "Monthly.Income                  3500.0   5000.0   6800.0  102750.0  \n",
       "Open.CREDIT.Lines                  7.0      9.0     13.0      38.0  \n",
       "Revolving.CREDIT.Balance        5584.0  10948.0  18861.0  270800.0  \n",
       "Inquiries.in.the.Last.6.Months     0.0      0.0      1.0       9.0  "
      ]
     },
     "execution_count": 9,
     "metadata": {},
     "output_type": "execute_result"
    }
   ],
   "source": [
    "Loans_data.describe().T"
   ]
  },
  {
   "cell_type": "code",
   "execution_count": 10,
   "id": "3755139d",
   "metadata": {},
   "outputs": [
    {
     "data": {
      "text/plain": [
       "Amount.Requested                  float64\n",
       "Amount.Funded.By.Investors        float64\n",
       "Interest.Rate                      object\n",
       "Loan.Length                        object\n",
       "Loan.Purpose                       object\n",
       "Debt.To.Income.Ratio               object\n",
       "State                              object\n",
       "Home.Ownership                     object\n",
       "Monthly.Income                    float64\n",
       "FICO.Range                         object\n",
       "Open.CREDIT.Lines                 float64\n",
       "Revolving.CREDIT.Balance          float64\n",
       "Inquiries.in.the.Last.6.Months    float64\n",
       "Employment.Length                  object\n",
       "dtype: object"
      ]
     },
     "execution_count": 10,
     "metadata": {},
     "output_type": "execute_result"
    }
   ],
   "source": [
    "Loans_data.dtypes"
   ]
  },
  {
   "cell_type": "raw",
   "id": "3eb96584",
   "metadata": {},
   "source": [
    "Inference-\n",
    "need to change dattype of some columns"
   ]
  },
  {
   "cell_type": "code",
   "execution_count": 11,
   "id": "2b10dd00",
   "metadata": {},
   "outputs": [],
   "source": [
    "Loans_data['Interest.Rate'] = Loans_data['Interest.Rate'].str.replace('%', '').astype(float)"
   ]
  },
  {
   "cell_type": "code",
   "execution_count": 12,
   "id": "6c3e0fc5",
   "metadata": {},
   "outputs": [],
   "source": [
    "Loans_data['Loan.Length'] = Loans_data['Loan.Length'].str.replace('months', '').astype(int)"
   ]
  },
  {
   "cell_type": "code",
   "execution_count": 13,
   "id": "f3755182",
   "metadata": {},
   "outputs": [],
   "source": [
    "Loans_data['Debt.To.Income.Ratio'] = Loans_data['Debt.To.Income.Ratio'].str.replace('%', '').astype(float)"
   ]
  },
  {
   "cell_type": "code",
   "execution_count": 14,
   "id": "ffde47fd",
   "metadata": {},
   "outputs": [
    {
     "data": {
      "text/plain": [
       "Amount.Requested                  float64\n",
       "Amount.Funded.By.Investors        float64\n",
       "Interest.Rate                     float64\n",
       "Loan.Length                         int32\n",
       "Loan.Purpose                       object\n",
       "Debt.To.Income.Ratio              float64\n",
       "State                              object\n",
       "Home.Ownership                     object\n",
       "Monthly.Income                    float64\n",
       "FICO.Range                         object\n",
       "Open.CREDIT.Lines                 float64\n",
       "Revolving.CREDIT.Balance          float64\n",
       "Inquiries.in.the.Last.6.Months    float64\n",
       "Employment.Length                  object\n",
       "dtype: object"
      ]
     },
     "execution_count": 14,
     "metadata": {},
     "output_type": "execute_result"
    }
   ],
   "source": [
    "Loans_data.dtypes"
   ]
  },
  {
   "cell_type": "code",
   "execution_count": 15,
   "id": "0585263e",
   "metadata": {},
   "outputs": [],
   "source": [
    "#Rename the columns of Loan data\n",
    "\n",
    "Loans_data.rename(columns=lambda x: x.replace('.', '_'), inplace=True)"
   ]
  },
  {
   "cell_type": "code",
   "execution_count": 16,
   "id": "3a424e83",
   "metadata": {},
   "outputs": [
    {
     "data": {
      "text/plain": [
       "Index(['Amount_Requested', 'Amount_Funded_By_Investors', 'Interest_Rate',\n",
       "       'Loan_Length', 'Loan_Purpose', 'Debt_To_Income_Ratio', 'State',\n",
       "       'Home_Ownership', 'Monthly_Income', 'FICO_Range', 'Open_CREDIT_Lines',\n",
       "       'Revolving_CREDIT_Balance', 'Inquiries_in_the_Last_6_Months',\n",
       "       'Employment_Length'],\n",
       "      dtype='object')"
      ]
     },
     "execution_count": 16,
     "metadata": {},
     "output_type": "execute_result"
    }
   ],
   "source": [
    "Loans_data.columns"
   ]
  },
  {
   "cell_type": "code",
   "execution_count": 17,
   "id": "39160656",
   "metadata": {},
   "outputs": [
    {
     "data": {
      "text/plain": [
       "Amount_Requested                   1\n",
       "Amount_Funded_By_Investors         1\n",
       "Interest_Rate                      2\n",
       "Loan_Length                        0\n",
       "Loan_Purpose                       0\n",
       "Debt_To_Income_Ratio               1\n",
       "State                              0\n",
       "Home_Ownership                     1\n",
       "Monthly_Income                     1\n",
       "FICO_Range                         2\n",
       "Open_CREDIT_Lines                  3\n",
       "Revolving_CREDIT_Balance           3\n",
       "Inquiries_in_the_Last_6_Months     3\n",
       "Employment_Length                 77\n",
       "dtype: int64"
      ]
     },
     "execution_count": 17,
     "metadata": {},
     "output_type": "execute_result"
    }
   ],
   "source": [
    "#Checking the count of missing values \n",
    "\n",
    "Loans_data.isnull().sum()"
   ]
  },
  {
   "cell_type": "code",
   "execution_count": 18,
   "id": "01e4b226",
   "metadata": {},
   "outputs": [
    {
     "data": {
      "text/plain": [
       "Amount_Requested                  0.04\n",
       "Amount_Funded_By_Investors        0.04\n",
       "Interest_Rate                     0.08\n",
       "Loan_Length                       0.00\n",
       "Loan_Purpose                      0.00\n",
       "Debt_To_Income_Ratio              0.04\n",
       "State                             0.00\n",
       "Home_Ownership                    0.04\n",
       "Monthly_Income                    0.04\n",
       "FICO_Range                        0.08\n",
       "Open_CREDIT_Lines                 0.12\n",
       "Revolving_CREDIT_Balance          0.12\n",
       "Inquiries_in_the_Last_6_Months    0.12\n",
       "Employment_Length                 3.08\n",
       "dtype: float64"
      ]
     },
     "execution_count": 18,
     "metadata": {},
     "output_type": "execute_result"
    }
   ],
   "source": [
    "(Loans_data.isnull().sum())/len(Loans_data)*100"
   ]
  },
  {
   "cell_type": "raw",
   "id": "f7fd9266",
   "metadata": {},
   "source": [
    "Inference: percentage of null values is less than 5% ,so, we can drop the column Employemnt_length "
   ]
  },
  {
   "cell_type": "code",
   "execution_count": 19,
   "id": "9a56d233",
   "metadata": {},
   "outputs": [],
   "source": [
    "#Drop the column Emplyment_Length\n",
    "\n",
    "Loans_data.drop(columns=('Employment_Length'),axis=1,inplace=True)  "
   ]
  },
  {
   "cell_type": "code",
   "execution_count": 20,
   "id": "d2e47a80",
   "metadata": {},
   "outputs": [],
   "source": [
    "Loans_data.dropna(inplace=True)   #drop the missing values"
   ]
  },
  {
   "cell_type": "code",
   "execution_count": 21,
   "id": "830fff22",
   "metadata": {},
   "outputs": [
    {
     "data": {
      "text/plain": [
       "(2489, 13)"
      ]
     },
     "execution_count": 21,
     "metadata": {},
     "output_type": "execute_result"
    }
   ],
   "source": [
    "Loans_data.shape"
   ]
  },
  {
   "cell_type": "code",
   "execution_count": 22,
   "id": "cea57065",
   "metadata": {},
   "outputs": [
    {
     "data": {
      "text/html": [
       "<div>\n",
       "<style scoped>\n",
       "    .dataframe tbody tr th:only-of-type {\n",
       "        vertical-align: middle;\n",
       "    }\n",
       "\n",
       "    .dataframe tbody tr th {\n",
       "        vertical-align: top;\n",
       "    }\n",
       "\n",
       "    .dataframe thead th {\n",
       "        text-align: right;\n",
       "    }\n",
       "</style>\n",
       "<table border=\"1\" class=\"dataframe\">\n",
       "  <thead>\n",
       "    <tr style=\"text-align: right;\">\n",
       "      <th></th>\n",
       "      <th>Amount_Requested</th>\n",
       "      <th>Amount_Funded_By_Investors</th>\n",
       "      <th>Interest_Rate</th>\n",
       "      <th>Loan_Length</th>\n",
       "      <th>Loan_Purpose</th>\n",
       "      <th>Debt_To_Income_Ratio</th>\n",
       "      <th>State</th>\n",
       "      <th>Home_Ownership</th>\n",
       "      <th>Monthly_Income</th>\n",
       "      <th>FICO_Range</th>\n",
       "      <th>Open_CREDIT_Lines</th>\n",
       "      <th>Revolving_CREDIT_Balance</th>\n",
       "      <th>Inquiries_in_the_Last_6_Months</th>\n",
       "    </tr>\n",
       "  </thead>\n",
       "  <tbody>\n",
       "    <tr>\n",
       "      <th>0</th>\n",
       "      <td>20000.0</td>\n",
       "      <td>20000.0</td>\n",
       "      <td>8.90</td>\n",
       "      <td>36</td>\n",
       "      <td>debt_consolidation</td>\n",
       "      <td>14.90</td>\n",
       "      <td>SC</td>\n",
       "      <td>MORTGAGE</td>\n",
       "      <td>6541.67</td>\n",
       "      <td>735-739</td>\n",
       "      <td>14.0</td>\n",
       "      <td>14272.0</td>\n",
       "      <td>2.0</td>\n",
       "    </tr>\n",
       "    <tr>\n",
       "      <th>1</th>\n",
       "      <td>19200.0</td>\n",
       "      <td>19200.0</td>\n",
       "      <td>12.12</td>\n",
       "      <td>36</td>\n",
       "      <td>debt_consolidation</td>\n",
       "      <td>28.36</td>\n",
       "      <td>TX</td>\n",
       "      <td>MORTGAGE</td>\n",
       "      <td>4583.33</td>\n",
       "      <td>715-719</td>\n",
       "      <td>12.0</td>\n",
       "      <td>11140.0</td>\n",
       "      <td>1.0</td>\n",
       "    </tr>\n",
       "  </tbody>\n",
       "</table>\n",
       "</div>"
      ],
      "text/plain": [
       "   Amount_Requested  Amount_Funded_By_Investors  Interest_Rate  Loan_Length  \\\n",
       "0           20000.0                     20000.0           8.90           36   \n",
       "1           19200.0                     19200.0          12.12           36   \n",
       "\n",
       "         Loan_Purpose  Debt_To_Income_Ratio State Home_Ownership  \\\n",
       "0  debt_consolidation                 14.90    SC       MORTGAGE   \n",
       "1  debt_consolidation                 28.36    TX       MORTGAGE   \n",
       "\n",
       "   Monthly_Income FICO_Range  Open_CREDIT_Lines  Revolving_CREDIT_Balance  \\\n",
       "0         6541.67    735-739               14.0                   14272.0   \n",
       "1         4583.33    715-719               12.0                   11140.0   \n",
       "\n",
       "   Inquiries_in_the_Last_6_Months  \n",
       "0                             2.0  \n",
       "1                             1.0  "
      ]
     },
     "execution_count": 22,
     "metadata": {},
     "output_type": "execute_result"
    }
   ],
   "source": [
    "Loans_data.head(2)"
   ]
  },
  {
   "cell_type": "code",
   "execution_count": 23,
   "id": "4ee17505",
   "metadata": {},
   "outputs": [
    {
     "data": {
      "text/html": [
       "<div>\n",
       "<style scoped>\n",
       "    .dataframe tbody tr th:only-of-type {\n",
       "        vertical-align: middle;\n",
       "    }\n",
       "\n",
       "    .dataframe tbody tr th {\n",
       "        vertical-align: top;\n",
       "    }\n",
       "\n",
       "    .dataframe thead th {\n",
       "        text-align: right;\n",
       "    }\n",
       "</style>\n",
       "<table border=\"1\" class=\"dataframe\">\n",
       "  <thead>\n",
       "    <tr style=\"text-align: right;\">\n",
       "      <th></th>\n",
       "      <th>Amount_Requested</th>\n",
       "      <th>Amount_Funded_By_Investors</th>\n",
       "      <th>Interest_Rate</th>\n",
       "      <th>Loan_Length</th>\n",
       "      <th>Debt_To_Income_Ratio</th>\n",
       "      <th>Monthly_Income</th>\n",
       "      <th>Open_CREDIT_Lines</th>\n",
       "      <th>Revolving_CREDIT_Balance</th>\n",
       "      <th>Inquiries_in_the_Last_6_Months</th>\n",
       "    </tr>\n",
       "  </thead>\n",
       "  <tbody>\n",
       "    <tr>\n",
       "      <th>0</th>\n",
       "      <td>20000.0</td>\n",
       "      <td>20000.0</td>\n",
       "      <td>8.90</td>\n",
       "      <td>36</td>\n",
       "      <td>14.90</td>\n",
       "      <td>6541.67</td>\n",
       "      <td>14.0</td>\n",
       "      <td>14272.0</td>\n",
       "      <td>2.0</td>\n",
       "    </tr>\n",
       "    <tr>\n",
       "      <th>1</th>\n",
       "      <td>19200.0</td>\n",
       "      <td>19200.0</td>\n",
       "      <td>12.12</td>\n",
       "      <td>36</td>\n",
       "      <td>28.36</td>\n",
       "      <td>4583.33</td>\n",
       "      <td>12.0</td>\n",
       "      <td>11140.0</td>\n",
       "      <td>1.0</td>\n",
       "    </tr>\n",
       "  </tbody>\n",
       "</table>\n",
       "</div>"
      ],
      "text/plain": [
       "   Amount_Requested  Amount_Funded_By_Investors  Interest_Rate  Loan_Length  \\\n",
       "0           20000.0                     20000.0           8.90           36   \n",
       "1           19200.0                     19200.0          12.12           36   \n",
       "\n",
       "   Debt_To_Income_Ratio  Monthly_Income  Open_CREDIT_Lines  \\\n",
       "0                 14.90         6541.67               14.0   \n",
       "1                 28.36         4583.33               12.0   \n",
       "\n",
       "   Revolving_CREDIT_Balance  Inquiries_in_the_Last_6_Months  \n",
       "0                   14272.0                             2.0  \n",
       "1                   11140.0                             1.0  "
      ]
     },
     "execution_count": 23,
     "metadata": {},
     "output_type": "execute_result"
    }
   ],
   "source": [
    "continuous_var = Loans_data.select_dtypes('number')\n",
    "continuous_var.head(2)"
   ]
  },
  {
   "cell_type": "code",
   "execution_count": 24,
   "id": "dad942b9",
   "metadata": {},
   "outputs": [
    {
     "data": {
      "text/html": [
       "<div>\n",
       "<style scoped>\n",
       "    .dataframe tbody tr th:only-of-type {\n",
       "        vertical-align: middle;\n",
       "    }\n",
       "\n",
       "    .dataframe tbody tr th {\n",
       "        vertical-align: top;\n",
       "    }\n",
       "\n",
       "    .dataframe thead th {\n",
       "        text-align: right;\n",
       "    }\n",
       "</style>\n",
       "<table border=\"1\" class=\"dataframe\">\n",
       "  <thead>\n",
       "    <tr style=\"text-align: right;\">\n",
       "      <th></th>\n",
       "      <th>Loan_Purpose</th>\n",
       "      <th>State</th>\n",
       "      <th>Home_Ownership</th>\n",
       "      <th>FICO_Range</th>\n",
       "    </tr>\n",
       "  </thead>\n",
       "  <tbody>\n",
       "    <tr>\n",
       "      <th>0</th>\n",
       "      <td>debt_consolidation</td>\n",
       "      <td>SC</td>\n",
       "      <td>MORTGAGE</td>\n",
       "      <td>735-739</td>\n",
       "    </tr>\n",
       "    <tr>\n",
       "      <th>1</th>\n",
       "      <td>debt_consolidation</td>\n",
       "      <td>TX</td>\n",
       "      <td>MORTGAGE</td>\n",
       "      <td>715-719</td>\n",
       "    </tr>\n",
       "  </tbody>\n",
       "</table>\n",
       "</div>"
      ],
      "text/plain": [
       "         Loan_Purpose State Home_Ownership FICO_Range\n",
       "0  debt_consolidation    SC       MORTGAGE    735-739\n",
       "1  debt_consolidation    TX       MORTGAGE    715-719"
      ]
     },
     "execution_count": 24,
     "metadata": {},
     "output_type": "execute_result"
    }
   ],
   "source": [
    "categorical_var = Loans_data.select_dtypes('object')\n",
    "categorical_var.head(2)"
   ]
  },
  {
   "cell_type": "code",
   "execution_count": 25,
   "id": "992d075f",
   "metadata": {},
   "outputs": [
    {
     "data": {
      "image/png": "[encoded data removed]",
      "text/plain": [
       "<Figure size 300x100 with 1 Axes>"
      ]
     },
     "metadata": {},
     "output_type": "display_data"
    },
    {
     "data": {
      "image/png": "[encoded data removed]",
      "text/plain": [
       "<Figure size 300x100 with 1 Axes>"
      ]
     },
     "metadata": {},
     "output_type": "display_data"
    },
    {
     "data": {
      "image/png": "[encoded data removed]",
      "text/plain": [
       "<Figure size 300x100 with 1 Axes>"
      ]
     },
     "metadata": {},
     "output_type": "display_data"
    },
    {
     "data": {
      "image/png": "[encoded data removed]",
      "text/plain": [
       "<Figure size 300x100 with 1 Axes>"
      ]
     },
     "metadata": {},
     "output_type": "display_data"
    },
    {
     "data": {
      "image/png": "[encoded data removed]",
      "text/plain": [
       "<Figure size 300x100 with 1 Axes>"
      ]
     },
     "metadata": {},
     "output_type": "display_data"
    },
    {
     "data": {
      "image/png": "[encoded data removed]",
      "text/plain": [
       "<Figure size 300x100 with 1 Axes>"
      ]
     },
     "metadata": {},
     "output_type": "display_data"
    },
    {
     "data": {
      "image/png": "[encoded data removed]",
      "text/plain": [
       "<Figure size 300x100 with 1 Axes>"
      ]
     },
     "metadata": {},
     "output_type": "display_data"
    },
    {
     "data": {
      "image/png": "[encoded data removed]",
      "text/plain": [
       "<Figure size 300x100 with 1 Axes>"
      ]
     },
     "metadata": {},
     "output_type": "display_data"
    },
    {
     "data": {
      "image/png": "[encoded data removed]",
      "text/plain": [
       "<Figure size 300x100 with 1 Axes>"
      ]
     },
     "metadata": {},
     "output_type": "display_data"
    }
   ],
   "source": [
    "# Check for outliers\n",
    "\n",
    "for i in continuous_var.columns:\n",
    "    plt.figure(figsize=(3,1))\n",
    "    sns.boxplot(data=Loans_data,x=i)\n",
    "    plt.show() "
   ]
  },
  {
   "cell_type": "code",
   "execution_count": 26,
   "id": "2d8d144e",
   "metadata": {},
   "outputs": [],
   "source": [
    "# Outlier treatment"
   ]
  },
  {
   "cell_type": "code",
   "execution_count": 27,
   "id": "bf8f5b60",
   "metadata": {},
   "outputs": [],
   "source": [
    "def treat_outlier(x):\n",
    "    q1=x.quantile(0.25)\n",
    "    q3=x.quantile(0.75)\n",
    "    iqr=q3-q1\n",
    "    lr=q1-1.5*iqr\n",
    "    ur=q3+1.5*iqr\n",
    "    return x.clip(lower=lr,upper=ur)"
   ]
  },
  {
   "cell_type": "code",
   "execution_count": 28,
   "id": "2df61f1f",
   "metadata": {},
   "outputs": [
    {
     "data": {
      "image/png": "[encoded data removed]",
      "text/plain": [
       "<Figure size 300x100 with 1 Axes>"
      ]
     },
     "metadata": {},
     "output_type": "display_data"
    },
    {
     "data": {
      "image/png": "[encoded data removed]",
      "text/plain": [
       "<Figure size 300x100 with 1 Axes>"
      ]
     },
     "metadata": {},
     "output_type": "display_data"
    },
    {
     "data": {
      "image/png": "[encoded data removed]",
      "text/plain": [
       "<Figure size 300x100 with 1 Axes>"
      ]
     },
     "metadata": {},
     "output_type": "display_data"
    },
    {
     "data": {
      "image/png": "[encoded data removed]",
      "text/plain": [
       "<Figure size 300x100 with 1 Axes>"
      ]
     },
     "metadata": {},
     "output_type": "display_data"
    },
    {
     "data": {
      "image/png": "[encoded data removed]",
      "text/plain": [
       "<Figure size 300x100 with 1 Axes>"
      ]
     },
     "metadata": {},
     "output_type": "display_data"
    },
    {
     "data": {
      "image/png": "[encoded data removed]",
      "text/plain": [
       "<Figure size 300x100 with 1 Axes>"
      ]
     },
     "metadata": {},
     "output_type": "display_data"
    },
    {
     "data": {
      "image/png": "[encoded data removed]",
      "text/plain": [
       "<Figure size 300x100 with 1 Axes>"
      ]
     },
     "metadata": {},
     "output_type": "display_data"
    },
    {
     "data": {
      "image/png": "[encoded data removed]",
      "text/plain": [
       "<Figure size 300x100 with 1 Axes>"
      ]
     },
     "metadata": {},
     "output_type": "display_data"
    },
    {
     "data": {
      "image/png": "[encoded data removed]",
      "text/plain": [
       "<Figure size 300x100 with 1 Axes>"
      ]
     },
     "metadata": {},
     "output_type": "display_data"
    }
   ],
   "source": [
    "for i in continuous_var.columns:\n",
    "    continuous_var[i]=treat_outlier(continuous_var[i])\n",
    "    plt.figure(figsize=(3,1))\n",
    "    sns.boxplot(data=continuous_var,x=i)\n",
    "    plt.show() "
   ]
  },
  {
   "cell_type": "markdown",
   "id": "61dfe293",
   "metadata": {},
   "source": [
    "### Solutions to Buisness Problems"
   ]
  },
  {
   "cell_type": "markdown",
   "id": "603d5ba3",
   "metadata": {},
   "source": [
    "### 1(a). Intrest rate is varied for different loan amounts (Less interest charged for high loan amounts)"
   ]
  },
  {
   "cell_type": "raw",
   "id": "54adcd5c",
   "metadata": {},
   "source": [
    "Step1:\n",
    "    \n",
    "Ho : There is no correlation\n",
    "Ha : There is correlation\n",
    "\n",
    "Step2:\n",
    "Collect the data\n",
    "\n",
    "Step3:\n",
    "\n",
    "Confidence level   : 95%\n",
    "Significance level : 5%        pcritical : 0.05\n",
    "\n",
    "Step4:\n",
    "Conduct the Pearson correlation test"
   ]
  },
  {
   "cell_type": "code",
   "execution_count": 29,
   "id": "0b75fc29",
   "metadata": {},
   "outputs": [
    {
     "data": {
      "text/plain": [
       "(2489, 13)"
      ]
     },
     "execution_count": 29,
     "metadata": {},
     "output_type": "execute_result"
    }
   ],
   "source": [
    "Loans_data.shape"
   ]
  },
  {
   "cell_type": "code",
   "execution_count": 30,
   "id": "f1e66010",
   "metadata": {},
   "outputs": [
    {
     "data": {
      "text/plain": [
       "Index(['Amount_Requested', 'Amount_Funded_By_Investors', 'Interest_Rate',\n",
       "       'Loan_Length', 'Loan_Purpose', 'Debt_To_Income_Ratio', 'State',\n",
       "       'Home_Ownership', 'Monthly_Income', 'FICO_Range', 'Open_CREDIT_Lines',\n",
       "       'Revolving_CREDIT_Balance', 'Inquiries_in_the_Last_6_Months'],\n",
       "      dtype='object')"
      ]
     },
     "execution_count": 30,
     "metadata": {},
     "output_type": "execute_result"
    }
   ],
   "source": [
    "Loans_data.columns"
   ]
  },
  {
   "cell_type": "code",
   "execution_count": 31,
   "id": "6561c1b8",
   "metadata": {},
   "outputs": [],
   "source": [
    "#Conduct the Pearson correlation test\n",
    "\n",
    "#stats.pearsonr(Loans_data.Interest_Rate, Loans_data.Amount_Funded_By_Investors)"
   ]
  },
  {
   "cell_type": "code",
   "execution_count": 32,
   "id": "333b96a2",
   "metadata": {},
   "outputs": [],
   "source": [
    "pvalue = 1.1396807200527619e-66\n",
    "pcritical = 0.05"
   ]
  },
  {
   "cell_type": "code",
   "execution_count": 33,
   "id": "4e013c5b",
   "metadata": {},
   "outputs": [
    {
     "data": {
      "text/plain": [
       "True"
      ]
     },
     "execution_count": 33,
     "metadata": {},
     "output_type": "execute_result"
    }
   ],
   "source": [
    "pvalue < pcritical"
   ]
  },
  {
   "cell_type": "raw",
   "id": "2275e470",
   "metadata": {},
   "source": [
    "#Step6:\n",
    "#Conclusion:\n",
    "\n",
    "Reject the Null Hypothesis\n",
    "So, There is a corelation\n",
    "Less interest charged for high loan amounts or vice-versa"
   ]
  },
  {
   "cell_type": "markdown",
   "id": "a7b541bb",
   "metadata": {},
   "source": [
    "### 1(b). Loan length is directly effecting intrest rate.\n"
   ]
  },
  {
   "cell_type": "raw",
   "id": "36f6ac5c",
   "metadata": {},
   "source": [
    "Step1:\n",
    "    \n",
    "Ho : There is no correlation, independent \n",
    "Ha : There is correlation, dependent\n",
    "\n",
    "Step2:\n",
    "Collect the data\n",
    "\n",
    "Step3:\n",
    "\n",
    "Confidence level   : 95%\n",
    "Significance level : 5%        pcritical : 0.05\n",
    "\n",
    "Step4:\n",
    "Conduct the Pearson correlation test"
   ]
  },
  {
   "cell_type": "code",
   "execution_count": 34,
   "id": "86ee3ab8",
   "metadata": {},
   "outputs": [
    {
     "data": {
      "text/plain": [
       "PearsonRResult(statistic=0.4244808110067465, pvalue=1.9132344351583454e-109)"
      ]
     },
     "execution_count": 34,
     "metadata": {},
     "output_type": "execute_result"
    }
   ],
   "source": [
    "#Conduct the Pearson correlation test\n",
    "\n",
    "stats.pearsonr(Loans_data.Interest_Rate, Loans_data.Loan_Length)"
   ]
  },
  {
   "cell_type": "raw",
   "id": "e83fd243",
   "metadata": {},
   "source": [
    "#Step6:\n",
    "#Conclusion:\n",
    "\n",
    "Reject the Null Hypothesis\n",
    "So, There is a corelation, dependent on each other\n",
    "#Loan length is directly effecting the interest rate"
   ]
  },
  {
   "cell_type": "markdown",
   "id": "1dd83c07",
   "metadata": {},
   "source": [
    "### 1(c). Interest rate varies for different purpose of loans"
   ]
  },
  {
   "cell_type": "raw",
   "id": "60aac192",
   "metadata": {},
   "source": [
    "Step1:\n",
    "    \n",
    "Ho : There is no correlation, independent \n",
    "Ha : There is correlation, dependent\n",
    "\n",
    "Step2:\n",
    "Collect the data\n",
    "\n",
    "Step3:\n",
    "\n",
    "Confidence level   : 95%\n",
    "Significance level : 5%        pcritical : 0.05"
   ]
  },
  {
   "cell_type": "code",
   "execution_count": 35,
   "id": "a116ce16",
   "metadata": {},
   "outputs": [
    {
     "data": {
      "text/plain": [
       "array(['debt_consolidation', 'credit_card', 'other', 'moving', 'car',\n",
       "       'vacation', 'home_improvement', 'house', 'major_purchase',\n",
       "       'educational', 'medical', 'wedding', 'small_business',\n",
       "       'renewable_energy'], dtype=object)"
      ]
     },
     "execution_count": 35,
     "metadata": {},
     "output_type": "execute_result"
    }
   ],
   "source": [
    "Loans_data.Loan_Purpose.unique()"
   ]
  },
  {
   "cell_type": "code",
   "execution_count": 36,
   "id": "4afc7e95",
   "metadata": {},
   "outputs": [],
   "source": [
    "# data prep\n",
    "\n",
    "# samples for each loan purposes\n",
    "s1 = Loans_data.loc[Loans_data.Loan_Purpose == 'debt_consolidation', 'Interest_Rate' ]\n",
    "s2 = Loans_data.loc[Loans_data.Loan_Purpose == 'credit_card', 'Interest_Rate' ]\n",
    "s3 = Loans_data.loc[Loans_data.Loan_Purpose == 'other', 'Interest_Rate' ]\n",
    "s4 = Loans_data.loc[Loans_data.Loan_Purpose == 'moving', 'Interest_Rate' ]\n",
    "s5 = Loans_data.loc[Loans_data.Loan_Purpose == 'car', 'Interest_Rate' ]\n",
    "s6 = Loans_data.loc[Loans_data.Loan_Purpose == 'vacation', 'Interest_Rate' ]\n",
    "s7 = Loans_data.loc[Loans_data.Loan_Purpose == 'home_improvement', 'Interest_Rate' ]\n",
    "s8 = Loans_data.loc[Loans_data.Loan_Purpose == 'house', 'Interest_Rate' ]\n",
    "s9 = Loans_data.loc[Loans_data.Loan_Purpose == 'major_purchase', 'Interest_Rate' ]\n",
    "s10 = Loans_data.loc[Loans_data.Loan_Purpose == 'educational', 'Interest_Rate' ]\n",
    "s11 = Loans_data.loc[Loans_data.Loan_Purpose == 'medical', 'Interest_Rate' ]\n",
    "s12 = Loans_data.loc[Loans_data.Loan_Purpose == 'wedding', 'Interest_Rate' ]\n",
    "s13 = Loans_data.loc[Loans_data.Loan_Purpose == 'small_business', 'Interest_Rate' ]\n",
    "s14 = Loans_data.loc[Loans_data.Loan_Purpose == 'renewable_energy', 'Interest_Rate' ]"
   ]
  },
  {
   "cell_type": "code",
   "execution_count": 37,
   "id": "a791ebd5",
   "metadata": {},
   "outputs": [
    {
     "data": {
      "text/plain": [
       "F_onewayResult(statistic=7.487175499510107, pvalue=1.1346364693350775e-14)"
      ]
     },
     "execution_count": 37,
     "metadata": {},
     "output_type": "execute_result"
    }
   ],
   "source": [
    "#Step4: Perform the F-Test or Anova as we have more than 2 columns\n",
    "\n",
    "stats.f_oneway( s1, s2, s3,s4,s5,s6,s7,s8,s9,s10,s11,s12,s13,s14)"
   ]
  },
  {
   "cell_type": "code",
   "execution_count": 38,
   "id": "7f7122b7",
   "metadata": {},
   "outputs": [
    {
     "data": {
      "text/plain": [
       "True"
      ]
     },
     "execution_count": 38,
     "metadata": {},
     "output_type": "execute_result"
    }
   ],
   "source": [
    "pvalue=1.1346364693350775e-14\n",
    "pcritical=0.05\n",
    "pvalue < pcritical"
   ]
  },
  {
   "cell_type": "raw",
   "id": "bf87379f",
   "metadata": {},
   "source": [
    "#Conclusion:\n",
    "\n",
    "Reject the Null Hypothesis\n",
    "So, There is a corelation, dependent on each other\n",
    "#Interest rate is different purpose of loans"
   ]
  },
  {
   "cell_type": "markdown",
   "id": "304da388",
   "metadata": {},
   "source": [
    "### 1(d). There is relationship between FICO scores and Home Ownership. It means that, People with owning home will have high FICO scores.\n"
   ]
  },
  {
   "cell_type": "raw",
   "id": "52ca771b",
   "metadata": {},
   "source": [
    "Step1:\n",
    "    \n",
    "Ho : There is no relationship between FICO scores and Home Ownership \n",
    "Ha : There is relationship between FICO scores and Home Ownership\n",
    "\n",
    "Step2:\n",
    "Collect the data\n",
    "\n",
    "Step3\n",
    "\n",
    "Confidence level   : 95%\n",
    "Significance level : 5%        pcritical : 0.05"
   ]
  },
  {
   "cell_type": "code",
   "execution_count": 39,
   "id": "82fc5f77",
   "metadata": {},
   "outputs": [
    {
     "data": {
      "text/plain": [
       "Index(['Amount_Requested', 'Amount_Funded_By_Investors', 'Interest_Rate',\n",
       "       'Loan_Length', 'Loan_Purpose', 'Debt_To_Income_Ratio', 'State',\n",
       "       'Home_Ownership', 'Monthly_Income', 'FICO_Range', 'Open_CREDIT_Lines',\n",
       "       'Revolving_CREDIT_Balance', 'Inquiries_in_the_Last_6_Months'],\n",
       "      dtype='object')"
      ]
     },
     "execution_count": 39,
     "metadata": {},
     "output_type": "execute_result"
    }
   ],
   "source": [
    "Loans_data.columns"
   ]
  },
  {
   "cell_type": "code",
   "execution_count": 40,
   "id": "f921850d",
   "metadata": {},
   "outputs": [],
   "source": [
    "Fico = Loans_data.FICO_Range.str.split('-',expand=True).astype('float64')\n",
    "Fico.columns = ('Low','High')\n",
    "Loans_data['Fico'] = (Fico.Low + Fico.High)/2"
   ]
  },
  {
   "cell_type": "code",
   "execution_count": 41,
   "id": "9354ea75",
   "metadata": {},
   "outputs": [
    {
     "data": {
      "text/html": [
       "<div>\n",
       "<style scoped>\n",
       "    .dataframe tbody tr th:only-of-type {\n",
       "        vertical-align: middle;\n",
       "    }\n",
       "\n",
       "    .dataframe tbody tr th {\n",
       "        vertical-align: top;\n",
       "    }\n",
       "\n",
       "    .dataframe thead th {\n",
       "        text-align: right;\n",
       "    }\n",
       "</style>\n",
       "<table border=\"1\" class=\"dataframe\">\n",
       "  <thead>\n",
       "    <tr style=\"text-align: right;\">\n",
       "      <th></th>\n",
       "      <th>Amount_Requested</th>\n",
       "      <th>Amount_Funded_By_Investors</th>\n",
       "      <th>Interest_Rate</th>\n",
       "      <th>Loan_Length</th>\n",
       "      <th>Loan_Purpose</th>\n",
       "      <th>Debt_To_Income_Ratio</th>\n",
       "      <th>State</th>\n",
       "      <th>Home_Ownership</th>\n",
       "      <th>Monthly_Income</th>\n",
       "      <th>FICO_Range</th>\n",
       "      <th>Open_CREDIT_Lines</th>\n",
       "      <th>Revolving_CREDIT_Balance</th>\n",
       "      <th>Inquiries_in_the_Last_6_Months</th>\n",
       "      <th>Fico</th>\n",
       "    </tr>\n",
       "  </thead>\n",
       "  <tbody>\n",
       "    <tr>\n",
       "      <th>0</th>\n",
       "      <td>20000.0</td>\n",
       "      <td>20000.0</td>\n",
       "      <td>8.90</td>\n",
       "      <td>36</td>\n",
       "      <td>debt_consolidation</td>\n",
       "      <td>14.90</td>\n",
       "      <td>SC</td>\n",
       "      <td>MORTGAGE</td>\n",
       "      <td>6541.67</td>\n",
       "      <td>735-739</td>\n",
       "      <td>14.0</td>\n",
       "      <td>14272.0</td>\n",
       "      <td>2.0</td>\n",
       "      <td>737.0</td>\n",
       "    </tr>\n",
       "    <tr>\n",
       "      <th>1</th>\n",
       "      <td>19200.0</td>\n",
       "      <td>19200.0</td>\n",
       "      <td>12.12</td>\n",
       "      <td>36</td>\n",
       "      <td>debt_consolidation</td>\n",
       "      <td>28.36</td>\n",
       "      <td>TX</td>\n",
       "      <td>MORTGAGE</td>\n",
       "      <td>4583.33</td>\n",
       "      <td>715-719</td>\n",
       "      <td>12.0</td>\n",
       "      <td>11140.0</td>\n",
       "      <td>1.0</td>\n",
       "      <td>717.0</td>\n",
       "    </tr>\n",
       "  </tbody>\n",
       "</table>\n",
       "</div>"
      ],
      "text/plain": [
       "   Amount_Requested  Amount_Funded_By_Investors  Interest_Rate  Loan_Length  \\\n",
       "0           20000.0                     20000.0           8.90           36   \n",
       "1           19200.0                     19200.0          12.12           36   \n",
       "\n",
       "         Loan_Purpose  Debt_To_Income_Ratio State Home_Ownership  \\\n",
       "0  debt_consolidation                 14.90    SC       MORTGAGE   \n",
       "1  debt_consolidation                 28.36    TX       MORTGAGE   \n",
       "\n",
       "   Monthly_Income FICO_Range  Open_CREDIT_Lines  Revolving_CREDIT_Balance  \\\n",
       "0         6541.67    735-739               14.0                   14272.0   \n",
       "1         4583.33    715-719               12.0                   11140.0   \n",
       "\n",
       "   Inquiries_in_the_Last_6_Months   Fico  \n",
       "0                             2.0  737.0  \n",
       "1                             1.0  717.0  "
      ]
     },
     "execution_count": 41,
     "metadata": {},
     "output_type": "execute_result"
    }
   ],
   "source": [
    "Loans_data.head(2)"
   ]
  },
  {
   "cell_type": "code",
   "execution_count": 42,
   "id": "2fab2c93",
   "metadata": {},
   "outputs": [],
   "source": [
    "s1 = Loans_data.loc[Loans_data.Home_Ownership == 'MORTGAGE','Fico']\n",
    "s2 = Loans_data.loc[Loans_data.Home_Ownership == 'RENT','Fico']\n",
    "s3 = Loans_data.loc[Loans_data.Home_Ownership == 'OWN','Fico']\n",
    "s4 = Loans_data.loc[Loans_data.Home_Ownership == 'OTHER','Fico']"
   ]
  },
  {
   "cell_type": "code",
   "execution_count": 43,
   "id": "1136f31d",
   "metadata": {},
   "outputs": [
    {
     "data": {
      "text/plain": [
       "F_onewayResult(statistic=23.067768208374645, pvalue=1.001016973422469e-14)"
      ]
     },
     "execution_count": 43,
     "metadata": {},
     "output_type": "execute_result"
    }
   ],
   "source": [
    "#Step4: Perform the Annova test\n",
    "\n",
    "stats.f_oneway(s1,s2,s3,s4)"
   ]
  },
  {
   "cell_type": "code",
   "execution_count": 44,
   "id": "b8b12ddb",
   "metadata": {},
   "outputs": [
    {
     "data": {
      "text/plain": [
       "1.001016973422469e-14"
      ]
     },
     "execution_count": 44,
     "metadata": {},
     "output_type": "execute_result"
    }
   ],
   "source": [
    "pvalue=1.001016973422469e-14\n",
    "pvalue"
   ]
  },
  {
   "cell_type": "code",
   "execution_count": 45,
   "id": "2396ef4e",
   "metadata": {},
   "outputs": [
    {
     "data": {
      "text/plain": [
       "True"
      ]
     },
     "execution_count": 45,
     "metadata": {},
     "output_type": "execute_result"
    }
   ],
   "source": [
    "pcritical = 0.05\n",
    "pvalue < pcritical"
   ]
  },
  {
   "cell_type": "raw",
   "id": "64767df0",
   "metadata": {},
   "source": [
    "#Conclusion:\n",
    "\n",
    "pvalue is 1.001016973422469e-14 which is less than 0.05. \n",
    "So p is low null will go. \n",
    "Hence we fail to accept null hypothesis that concludes\n",
    "There is relationship between FICO scores and Home Ownership with confidence of 95%."
   ]
  },
  {
   "cell_type": "markdown",
   "id": "6d8f0282",
   "metadata": {},
   "source": [
    "## BUSINESS PROBLEM - 2"
   ]
  },
  {
   "cell_type": "raw",
   "id": "2af11f17",
   "metadata": {},
   "source": [
    "BACKGROUND:\n",
    "When an order is placed by a customer of a small manufacturing company, a price quote must be developed for that order. Because each order is unique, quotes must be established on an order-by-order basis by a pricing expert. The price quote process is labor intensive, as prices depend on many factors such as the part number,customer,geographic location,market,and order volume. The sales department manager is concerned that the pricing process is too complex, and that there might be too much variability in the quoted prices. An improvement team is tasked with studying and improving the pricing process.After interviewing experts to develop a better understanding of the current process, the team designed a study to determine if there is variability between pricing experts. That is, do different pricing experts provide different price quotes? Two randomly selected pricing experts, Mary and Barry, were asked to independently provide prices for twelve randomly selected orders. Each expert provided one price for each of the twelve orders.\n",
    "\n",
    "\n",
    "DATA AVAILABLE:\n",
    " Price_Quotes.csv\n",
    "The data set contains the order number, 1 through 12, and the price quotes by Mary and Barry for each order. Each row in the data set is the same order. Thus, Mary and Barry produced quotes for the same orders"
   ]
  },
  {
   "cell_type": "code",
   "execution_count": 46,
   "id": "2be68d74",
   "metadata": {},
   "outputs": [],
   "source": [
    "price = pd.read_csv('Price_Quotes.csv')"
   ]
  },
  {
   "cell_type": "markdown",
   "id": "4e0da4f3",
   "metadata": {},
   "source": [
    "#### EDA Analysis"
   ]
  },
  {
   "cell_type": "code",
   "execution_count": 47,
   "id": "c57f5341",
   "metadata": {},
   "outputs": [
    {
     "data": {
      "text/html": [
       "<div>\n",
       "<style scoped>\n",
       "    .dataframe tbody tr th:only-of-type {\n",
       "        vertical-align: middle;\n",
       "    }\n",
       "\n",
       "    .dataframe tbody tr th {\n",
       "        vertical-align: top;\n",
       "    }\n",
       "\n",
       "    .dataframe thead th {\n",
       "        text-align: right;\n",
       "    }\n",
       "</style>\n",
       "<table border=\"1\" class=\"dataframe\">\n",
       "  <thead>\n",
       "    <tr style=\"text-align: right;\">\n",
       "      <th></th>\n",
       "      <th>Order_Number</th>\n",
       "      <th>Barry_Price</th>\n",
       "      <th>Mary_Price</th>\n",
       "    </tr>\n",
       "  </thead>\n",
       "  <tbody>\n",
       "    <tr>\n",
       "      <th>0</th>\n",
       "      <td>1</td>\n",
       "      <td>126</td>\n",
       "      <td>114</td>\n",
       "    </tr>\n",
       "    <tr>\n",
       "      <th>1</th>\n",
       "      <td>2</td>\n",
       "      <td>110</td>\n",
       "      <td>118</td>\n",
       "    </tr>\n",
       "  </tbody>\n",
       "</table>\n",
       "</div>"
      ],
      "text/plain": [
       "   Order_Number  Barry_Price  Mary_Price\n",
       "0             1          126         114\n",
       "1             2          110         118"
      ]
     },
     "execution_count": 47,
     "metadata": {},
     "output_type": "execute_result"
    }
   ],
   "source": [
    "price.head(2)"
   ]
  },
  {
   "cell_type": "code",
   "execution_count": 48,
   "id": "dba5940b",
   "metadata": {},
   "outputs": [
    {
     "data": {
      "text/plain": [
       "(12, 3)"
      ]
     },
     "execution_count": 48,
     "metadata": {},
     "output_type": "execute_result"
    }
   ],
   "source": [
    "price.shape"
   ]
  },
  {
   "cell_type": "code",
   "execution_count": 49,
   "id": "2aba3925",
   "metadata": {},
   "outputs": [
    {
     "data": {
      "text/plain": [
       "Order_Number    int64\n",
       "Barry_Price     int64\n",
       "Mary_Price      int64\n",
       "dtype: object"
      ]
     },
     "execution_count": 49,
     "metadata": {},
     "output_type": "execute_result"
    }
   ],
   "source": [
    "price.dtypes"
   ]
  },
  {
   "cell_type": "code",
   "execution_count": 50,
   "id": "9cacc459",
   "metadata": {},
   "outputs": [
    {
     "name": "stdout",
     "output_type": "stream",
     "text": [
      "<class 'pandas.core.frame.DataFrame'>\n",
      "RangeIndex: 12 entries, 0 to 11\n",
      "Data columns (total 3 columns):\n",
      " #   Column        Non-Null Count  Dtype\n",
      "---  ------        --------------  -----\n",
      " 0   Order_Number  12 non-null     int64\n",
      " 1   Barry_Price   12 non-null     int64\n",
      " 2   Mary_Price    12 non-null     int64\n",
      "dtypes: int64(3)\n",
      "memory usage: 420.0 bytes\n"
     ]
    }
   ],
   "source": [
    "price.info()"
   ]
  },
  {
   "cell_type": "code",
   "execution_count": 51,
   "id": "35656379",
   "metadata": {},
   "outputs": [
    {
     "data": {
      "text/plain": [
       "Order_Number    0.0\n",
       "Barry_Price     0.0\n",
       "Mary_Price      0.0\n",
       "dtype: float64"
      ]
     },
     "execution_count": 51,
     "metadata": {},
     "output_type": "execute_result"
    }
   ],
   "source": [
    "#Checking null values\n",
    "(price.isnull().sum())/len(price)*100"
   ]
  },
  {
   "cell_type": "markdown",
   "id": "3e8fb5f3",
   "metadata": {},
   "source": [
    "###  2.We would like to assess if there is any difference in the average price quotes provided by Mary and Barry."
   ]
  },
  {
   "cell_type": "code",
   "execution_count": 52,
   "id": "d6f1b648",
   "metadata": {},
   "outputs": [
    {
     "name": "stdout",
     "output_type": "stream",
     "text": [
      "Average priceprovided by Barry: 124.33333333333333\n"
     ]
    }
   ],
   "source": [
    "print('Average priceprovided by Barry:',price.Barry_Price.mean())"
   ]
  },
  {
   "cell_type": "code",
   "execution_count": 53,
   "id": "7d69ecca",
   "metadata": {},
   "outputs": [
    {
     "name": "stdout",
     "output_type": "stream",
     "text": [
      "Average priceprovided by Barry: 114.75\n"
     ]
    }
   ],
   "source": [
    "print('Average priceprovided by Barry:',price.Mary_Price.mean())"
   ]
  },
  {
   "cell_type": "raw",
   "id": "9981c9df",
   "metadata": {},
   "source": [
    "Step1:\n",
    "    \n",
    "Ho : there is no difference in the average price quotes provided by Mary and Barry\n",
    "Ha : there is difference in the average price quotes provided by Mary and Barry\n",
    "\n",
    "Step2:\n",
    "Collect the data\n",
    "\n",
    "Step3\n",
    "\n",
    "Confidence level   : 95%\n",
    "Significance level : 5%        pcritical : 0.05"
   ]
  },
  {
   "cell_type": "code",
   "execution_count": 54,
   "id": "28ae1011",
   "metadata": {},
   "outputs": [],
   "source": [
    "#Conduct the ttext as sample size is less than 30"
   ]
  },
  {
   "cell_type": "code",
   "execution_count": 55,
   "id": "511098ce",
   "metadata": {},
   "outputs": [
    {
     "data": {
      "text/plain": [
       "TtestResult(statistic=2.5213765108923494, pvalue=0.02840588045242053, df=11)"
      ]
     },
     "execution_count": 55,
     "metadata": {},
     "output_type": "execute_result"
    }
   ],
   "source": [
    "stats.ttest_rel(price.Barry_Price , price.Mary_Price)"
   ]
  },
  {
   "cell_type": "code",
   "execution_count": 56,
   "id": "e339349d",
   "metadata": {},
   "outputs": [
    {
     "data": {
      "text/plain": [
       "True"
      ]
     },
     "execution_count": 56,
     "metadata": {},
     "output_type": "execute_result"
    }
   ],
   "source": [
    "pvalue=0.02840588045242053\n",
    "pcritical : 0.05\n",
    "pvalue < pcritical"
   ]
  },
  {
   "cell_type": "raw",
   "id": "c98225f2",
   "metadata": {},
   "source": [
    "#Conclusion:\n",
    "\n",
    "Reject the Null Hypothesis\n",
    "#There is difference in the average price quotes provided by Mary and Barr."
   ]
  },
  {
   "cell_type": "markdown",
   "id": "79877012",
   "metadata": {},
   "source": [
    "## BUISNESS PROBLEM 3: \n",
    "\n",
    "- Reengineer: Whether the month was before (Prior) or after (Post) reengineering\n",
    "- EmployeeTurnover: The percentage of employees who quit in a givenmonth, out of the total number of employees\n",
    "- TRFF(%): The percentage of residents who were temporarily removed from the facility, out of the total number of residents\n",
    "- CI (%): The percentage of critical incident reports written that month, out ofthe total number of residents"
   ]
  },
  {
   "cell_type": "markdown",
   "id": "c9af7d12",
   "metadata": {},
   "source": [
    "### Determine what effect, if any, the reengineering effort had on the incidence behavioral problems and staff turnover. i.e To determine if the reengineering effort changed the critical incidence rate. Is there evidence that the critical incidence rate improved?"
   ]
  },
  {
   "cell_type": "code",
   "execution_count": 57,
   "id": "987864cb",
   "metadata": {},
   "outputs": [],
   "source": [
    "Treat_Facility = pd.read_csv('Treatment_Facility.csv')"
   ]
  },
  {
   "cell_type": "markdown",
   "id": "a69f1d60",
   "metadata": {},
   "source": [
    "#### EDA Analysis"
   ]
  },
  {
   "cell_type": "code",
   "execution_count": 58,
   "id": "07ad8343",
   "metadata": {},
   "outputs": [
    {
     "data": {
      "text/html": [
       "<div>\n",
       "<style scoped>\n",
       "    .dataframe tbody tr th:only-of-type {\n",
       "        vertical-align: middle;\n",
       "    }\n",
       "\n",
       "    .dataframe tbody tr th {\n",
       "        vertical-align: top;\n",
       "    }\n",
       "\n",
       "    .dataframe thead th {\n",
       "        text-align: right;\n",
       "    }\n",
       "</style>\n",
       "<table border=\"1\" class=\"dataframe\">\n",
       "  <thead>\n",
       "    <tr style=\"text-align: right;\">\n",
       "      <th></th>\n",
       "      <th>Month</th>\n",
       "      <th>Reengineer</th>\n",
       "      <th>Employee_Turnover</th>\n",
       "      <th>VAR4</th>\n",
       "      <th>VAR5</th>\n",
       "    </tr>\n",
       "  </thead>\n",
       "  <tbody>\n",
       "    <tr>\n",
       "      <th>0</th>\n",
       "      <td>1</td>\n",
       "      <td>Prior</td>\n",
       "      <td>0.0000</td>\n",
       "      <td>24.390244</td>\n",
       "      <td>42.682927</td>\n",
       "    </tr>\n",
       "    <tr>\n",
       "      <th>1</th>\n",
       "      <td>2</td>\n",
       "      <td>Prior</td>\n",
       "      <td>6.0606</td>\n",
       "      <td>19.354839</td>\n",
       "      <td>25.806452</td>\n",
       "    </tr>\n",
       "  </tbody>\n",
       "</table>\n",
       "</div>"
      ],
      "text/plain": [
       "   Month Reengineer  Employee_Turnover       VAR4       VAR5\n",
       "0      1      Prior             0.0000  24.390244  42.682927\n",
       "1      2      Prior             6.0606  19.354839  25.806452"
      ]
     },
     "execution_count": 58,
     "metadata": {},
     "output_type": "execute_result"
    }
   ],
   "source": [
    "Treat_Facility.head(2)"
   ]
  },
  {
   "cell_type": "code",
   "execution_count": 59,
   "id": "03a4053c",
   "metadata": {},
   "outputs": [
    {
     "data": {
      "text/plain": [
       "(20, 5)"
      ]
     },
     "execution_count": 59,
     "metadata": {},
     "output_type": "execute_result"
    }
   ],
   "source": [
    "Treat_Facility.shape"
   ]
  },
  {
   "cell_type": "code",
   "execution_count": 60,
   "id": "763d48bb",
   "metadata": {},
   "outputs": [
    {
     "data": {
      "text/plain": [
       "Month                  int64\n",
       "Reengineer            object\n",
       "Employee_Turnover    float64\n",
       "VAR4                 float64\n",
       "VAR5                 float64\n",
       "dtype: object"
      ]
     },
     "execution_count": 60,
     "metadata": {},
     "output_type": "execute_result"
    }
   ],
   "source": [
    "Treat_Facility.dtypes"
   ]
  },
  {
   "cell_type": "code",
   "execution_count": 61,
   "id": "06b872c1",
   "metadata": {},
   "outputs": [
    {
     "data": {
      "text/plain": [
       "Month                0\n",
       "Reengineer           0\n",
       "Employee_Turnover    0\n",
       "VAR4                 0\n",
       "VAR5                 0\n",
       "dtype: int64"
      ]
     },
     "execution_count": 61,
     "metadata": {},
     "output_type": "execute_result"
    }
   ],
   "source": [
    "Treat_Facility.isnull().sum()"
   ]
  },
  {
   "cell_type": "code",
   "execution_count": 62,
   "id": "dc77e016",
   "metadata": {},
   "outputs": [],
   "source": [
    "Treat_Facility.rename(columns=({'VAR4':'TRFF','VAR5':'CI'}),inplace=True)"
   ]
  },
  {
   "cell_type": "raw",
   "id": "ad87414a",
   "metadata": {},
   "source": [
    "Step1:\n",
    "    \n",
    "Ho : there is no relation that the critical incidence rate improved\n",
    "Ha : there is relation that the critical incidence rate improved\n",
    "\n",
    "Step2:\n",
    "Collect the data\n",
    "\n",
    "Step3:\n",
    "\n",
    "Confidence level   : 95%\n",
    "Significance level : 5%        pcritical : 0.05"
   ]
  },
  {
   "cell_type": "code",
   "execution_count": 63,
   "id": "8a0dffd9",
   "metadata": {},
   "outputs": [],
   "source": [
    "prior = Treat_Facility.loc[Treat_Facility.Reengineer == 'Prior','CI']\n",
    "post =  Treat_Facility.loc[Treat_Facility.Reengineer == 'Post','CI']"
   ]
  },
  {
   "cell_type": "code",
   "execution_count": 64,
   "id": "63689cd1",
   "metadata": {},
   "outputs": [
    {
     "data": {
      "text/plain": [
       "TtestResult(statistic=1.627914425352865, pvalue=0.12091989189884148, df=18.0)"
      ]
     },
     "execution_count": 64,
     "metadata": {},
     "output_type": "execute_result"
    }
   ],
   "source": [
    "stats.ttest_ind(prior, post)"
   ]
  },
  {
   "cell_type": "code",
   "execution_count": 65,
   "id": "ed540c82",
   "metadata": {},
   "outputs": [
    {
     "data": {
      "text/plain": [
       "False"
      ]
     },
     "execution_count": 65,
     "metadata": {},
     "output_type": "execute_result"
    }
   ],
   "source": [
    "pvalue=0.12091989189884148\n",
    "pcritical : 0.05\n",
    "pvalue < pcritical"
   ]
  },
  {
   "cell_type": "raw",
   "id": "b021e4fd",
   "metadata": {},
   "source": [
    "#Conclusion:\n",
    "\n",
    "Reject the Alternate Hypothesis\n",
    "# we can not say that there is any effect on the reengineering efforts"
   ]
  },
  {
   "cell_type": "markdown",
   "id": "1a6029ab",
   "metadata": {},
   "source": [
    "## BUSINESS PROBLEM 4: "
   ]
  },
  {
   "cell_type": "code",
   "execution_count": 66,
   "id": "5643afb3",
   "metadata": {},
   "outputs": [],
   "source": [
    "prior_ass = pd.read_csv('Priority_Assessment.csv')"
   ]
  },
  {
   "cell_type": "markdown",
   "id": "1e537e74",
   "metadata": {},
   "source": [
    "#### EDA Analysis "
   ]
  },
  {
   "cell_type": "code",
   "execution_count": 67,
   "id": "dffa515e",
   "metadata": {},
   "outputs": [
    {
     "data": {
      "text/html": [
       "<div>\n",
       "<style scoped>\n",
       "    .dataframe tbody tr th:only-of-type {\n",
       "        vertical-align: middle;\n",
       "    }\n",
       "\n",
       "    .dataframe tbody tr th {\n",
       "        vertical-align: top;\n",
       "    }\n",
       "\n",
       "    .dataframe thead th {\n",
       "        text-align: right;\n",
       "    }\n",
       "</style>\n",
       "<table border=\"1\" class=\"dataframe\">\n",
       "  <thead>\n",
       "    <tr style=\"text-align: right;\">\n",
       "      <th></th>\n",
       "      <th>Days</th>\n",
       "      <th>Priority</th>\n",
       "    </tr>\n",
       "  </thead>\n",
       "  <tbody>\n",
       "    <tr>\n",
       "      <th>0</th>\n",
       "      <td>3.3</td>\n",
       "      <td>High</td>\n",
       "    </tr>\n",
       "    <tr>\n",
       "      <th>1</th>\n",
       "      <td>7.9</td>\n",
       "      <td>Medium</td>\n",
       "    </tr>\n",
       "  </tbody>\n",
       "</table>\n",
       "</div>"
      ],
      "text/plain": [
       "   Days Priority\n",
       "0   3.3     High\n",
       "1   7.9   Medium"
      ]
     },
     "execution_count": 67,
     "metadata": {},
     "output_type": "execute_result"
    }
   ],
   "source": [
    "prior_ass.head(2)"
   ]
  },
  {
   "cell_type": "code",
   "execution_count": 68,
   "id": "91c6c853",
   "metadata": {},
   "outputs": [
    {
     "data": {
      "text/plain": [
       "(642, 2)"
      ]
     },
     "execution_count": 68,
     "metadata": {},
     "output_type": "execute_result"
    }
   ],
   "source": [
    "prior_ass.shape"
   ]
  },
  {
   "cell_type": "code",
   "execution_count": 69,
   "id": "707707bc",
   "metadata": {},
   "outputs": [
    {
     "data": {
      "text/plain": [
       "Index(['Days', 'Priority'], dtype='object')"
      ]
     },
     "execution_count": 69,
     "metadata": {},
     "output_type": "execute_result"
    }
   ],
   "source": [
    "prior_ass.columns"
   ]
  },
  {
   "cell_type": "code",
   "execution_count": 70,
   "id": "658065ea",
   "metadata": {},
   "outputs": [
    {
     "data": {
      "text/plain": [
       "Days        float64\n",
       "Priority     object\n",
       "dtype: object"
      ]
     },
     "execution_count": 70,
     "metadata": {},
     "output_type": "execute_result"
    }
   ],
   "source": [
    "prior_ass.dtypes"
   ]
  },
  {
   "cell_type": "code",
   "execution_count": 71,
   "id": "7b9e8be6",
   "metadata": {},
   "outputs": [
    {
     "data": {
      "text/plain": [
       "Days        0\n",
       "Priority    0\n",
       "dtype: int64"
      ]
     },
     "execution_count": 71,
     "metadata": {},
     "output_type": "execute_result"
    }
   ],
   "source": [
    "prior_ass.isnull().sum()   #Checking the null values"
   ]
  },
  {
   "cell_type": "markdown",
   "id": "c9c70da7",
   "metadata": {},
   "source": [
    "### We will focus on the prioritization system. If the system is working, thenhigh priority jobs, on average, should be completed more quickly than medium priority jobs,and medium priority jobs should be completed more quickly than low priority jobs. Use thedata provided to determine whether thisis, in fact, occurring"
   ]
  },
  {
   "cell_type": "raw",
   "id": "3b00633d",
   "metadata": {},
   "source": [
    "Step1:\n",
    "    \n",
    "Ho : there is no relation \n",
    "Ha : there is relation \n",
    "\n",
    "Step2:\n",
    "Collect the data\n",
    "\n",
    "Step3:\n",
    "\n",
    "Confidence level   : 95%\n",
    "Significance level : 5%        pcritical : 0.05"
   ]
  },
  {
   "cell_type": "code",
   "execution_count": 72,
   "id": "363ca1e7",
   "metadata": {},
   "outputs": [],
   "source": [
    "s1 = prior_ass.loc[prior_ass.Priority=='High','Days']\n",
    "s2 = prior_ass.loc[prior_ass.Priority=='Medium','Days']\n",
    "s3 = prior_ass.loc[prior_ass.Priority=='Low','Days']"
   ]
  },
  {
   "cell_type": "code",
   "execution_count": 73,
   "id": "bf935efe",
   "metadata": {},
   "outputs": [
    {
     "data": {
      "text/plain": [
       "F_onewayResult(statistic=1.812311010076072, pvalue=0.16411459461716182)"
      ]
     },
     "execution_count": 73,
     "metadata": {},
     "output_type": "execute_result"
    }
   ],
   "source": [
    "#Conduct the f-test as we have more than 2 samples\n",
    "\n",
    "stats.f_oneway(s1,s2,s3)"
   ]
  },
  {
   "cell_type": "code",
   "execution_count": 74,
   "id": "3ce9bfe8",
   "metadata": {},
   "outputs": [
    {
     "data": {
      "text/plain": [
       "False"
      ]
     },
     "execution_count": 74,
     "metadata": {},
     "output_type": "execute_result"
    }
   ],
   "source": [
    "pvalue=0.16411459461716182\n",
    "pcritical : 0.05\n",
    "pvalue < pcritical"
   ]
  },
  {
   "cell_type": "raw",
   "id": "04d5ab38",
   "metadata": {},
   "source": [
    "#Conclusion:\n",
    "\n",
    "Reject the Alternate Hypothesis\n",
    "# Prioritization system has no relation with completion of jobs on time"
   ]
  },
  {
   "cell_type": "markdown",
   "id": "9e10206b",
   "metadata": {},
   "source": [
    "## BUSINESS PROBLEM 5: \n",
    "- Gender The patron’s gender: 1 = male; 2 = female\n",
    "- Marital Status The patron’s marital status: 1 = married; 2 = single\n",
    "- Age The patron’s age in years: 1= 1-12; 2 = 13-30; 3 = 31-60; 4 = 60+\n",
    "- Income The patron’s annual household income: 1 = Less than $50,000; 2 = $50-$100,000; 3 = $100,000+\n",
    "- Hear About The patron’s response to this question: “How did you hear about Filmon the Rocks?” Respondents could check any of     the following that applied: 1 = television; 2 =\n",
    "  newspaper; 3 = radio; 4 = website; 5 = word of mouth\n"
   ]
  },
  {
   "cell_type": "code",
   "execution_count": 75,
   "id": "af55ccb9",
   "metadata": {},
   "outputs": [],
   "source": [
    "Films = pd.read_csv('Films.csv')"
   ]
  },
  {
   "cell_type": "markdown",
   "id": "9f22f7dd",
   "metadata": {},
   "source": [
    "#### EDA Analysis"
   ]
  },
  {
   "cell_type": "code",
   "execution_count": 76,
   "id": "a5e5ba7e",
   "metadata": {},
   "outputs": [
    {
     "data": {
      "text/html": [
       "<div>\n",
       "<style scoped>\n",
       "    .dataframe tbody tr th:only-of-type {\n",
       "        vertical-align: middle;\n",
       "    }\n",
       "\n",
       "    .dataframe tbody tr th {\n",
       "        vertical-align: top;\n",
       "    }\n",
       "\n",
       "    .dataframe thead th {\n",
       "        text-align: right;\n",
       "    }\n",
       "</style>\n",
       "<table border=\"1\" class=\"dataframe\">\n",
       "  <thead>\n",
       "    <tr style=\"text-align: right;\">\n",
       "      <th></th>\n",
       "      <th>_rowstate_</th>\n",
       "      <th>Movie</th>\n",
       "      <th>Gender</th>\n",
       "      <th>Marital_Status</th>\n",
       "      <th>Sinage</th>\n",
       "      <th>Parking</th>\n",
       "      <th>Clean</th>\n",
       "      <th>Overall</th>\n",
       "      <th>Age</th>\n",
       "      <th>Income</th>\n",
       "      <th>Hear_About</th>\n",
       "    </tr>\n",
       "  </thead>\n",
       "  <tbody>\n",
       "    <tr>\n",
       "      <th>0</th>\n",
       "      <td>0</td>\n",
       "      <td>Ferris Buellers Day Off</td>\n",
       "      <td>Female</td>\n",
       "      <td>Married</td>\n",
       "      <td>2.0</td>\n",
       "      <td>2.0</td>\n",
       "      <td>2.0</td>\n",
       "      <td>2.0</td>\n",
       "      <td>3.0</td>\n",
       "      <td>1.0</td>\n",
       "      <td>5</td>\n",
       "    </tr>\n",
       "    <tr>\n",
       "      <th>1</th>\n",
       "      <td>0</td>\n",
       "      <td>Ferris Buellers Day Off</td>\n",
       "      <td>Female</td>\n",
       "      <td>Single</td>\n",
       "      <td>1.0</td>\n",
       "      <td>1.0</td>\n",
       "      <td>1.0</td>\n",
       "      <td>1.0</td>\n",
       "      <td>2.0</td>\n",
       "      <td>1.0</td>\n",
       "      <td>5</td>\n",
       "    </tr>\n",
       "  </tbody>\n",
       "</table>\n",
       "</div>"
      ],
      "text/plain": [
       "   _rowstate_                    Movie  Gender Marital_Status  Sinage  \\\n",
       "0           0  Ferris Buellers Day Off  Female        Married     2.0   \n",
       "1           0  Ferris Buellers Day Off  Female         Single     1.0   \n",
       "\n",
       "   Parking  Clean  Overall  Age  Income Hear_About  \n",
       "0      2.0    2.0      2.0  3.0     1.0          5  \n",
       "1      1.0    1.0      1.0  2.0     1.0          5  "
      ]
     },
     "execution_count": 76,
     "metadata": {},
     "output_type": "execute_result"
    }
   ],
   "source": [
    "Films.head(2)"
   ]
  },
  {
   "cell_type": "code",
   "execution_count": 77,
   "id": "cb7f3bca",
   "metadata": {},
   "outputs": [
    {
     "data": {
      "text/plain": [
       "(330, 11)"
      ]
     },
     "execution_count": 77,
     "metadata": {},
     "output_type": "execute_result"
    }
   ],
   "source": [
    "Films.shape"
   ]
  },
  {
   "cell_type": "code",
   "execution_count": 78,
   "id": "e978e4df",
   "metadata": {},
   "outputs": [
    {
     "data": {
      "text/plain": [
       "Index(['_rowstate_', 'Movie', 'Gender', 'Marital_Status', 'Sinage', 'Parking',\n",
       "       'Clean', 'Overall', 'Age', 'Income', 'Hear_About'],\n",
       "      dtype='object')"
      ]
     },
     "execution_count": 78,
     "metadata": {},
     "output_type": "execute_result"
    }
   ],
   "source": [
    "Films.columns"
   ]
  },
  {
   "cell_type": "code",
   "execution_count": 79,
   "id": "51a196d4",
   "metadata": {},
   "outputs": [
    {
     "data": {
      "text/plain": [
       "array([ 2.,  1.,  5.,  3.,  4., nan])"
      ]
     },
     "execution_count": 79,
     "metadata": {},
     "output_type": "execute_result"
    }
   ],
   "source": [
    "Films['Overall'].unique()"
   ]
  },
  {
   "cell_type": "code",
   "execution_count": 80,
   "id": "aa209599",
   "metadata": {},
   "outputs": [
    {
     "data": {
      "text/plain": [
       "_rowstate_          int64\n",
       "Movie              object\n",
       "Gender             object\n",
       "Marital_Status     object\n",
       "Sinage            float64\n",
       "Parking           float64\n",
       "Clean             float64\n",
       "Overall           float64\n",
       "Age               float64\n",
       "Income            float64\n",
       "Hear_About         object\n",
       "dtype: object"
      ]
     },
     "execution_count": 80,
     "metadata": {},
     "output_type": "execute_result"
    }
   ],
   "source": [
    "Films.dtypes"
   ]
  },
  {
   "cell_type": "code",
   "execution_count": 81,
   "id": "9c1e077c",
   "metadata": {},
   "outputs": [
    {
     "data": {
      "text/plain": [
       "_rowstate_         0\n",
       "Movie              0\n",
       "Gender             0\n",
       "Marital_Status     2\n",
       "Sinage             2\n",
       "Parking            2\n",
       "Clean              3\n",
       "Overall            2\n",
       "Age                2\n",
       "Income            16\n",
       "Hear_About         7\n",
       "dtype: int64"
      ]
     },
     "execution_count": 81,
     "metadata": {},
     "output_type": "execute_result"
    }
   ],
   "source": [
    "Films.isnull().sum()"
   ]
  },
  {
   "cell_type": "code",
   "execution_count": 82,
   "id": "6ea69435",
   "metadata": {},
   "outputs": [],
   "source": [
    "# Income column has null values\n",
    "for var in Films.columns:\n",
    "    Films[var].fillna(value = Films[var].mode()[0], inplace=True)"
   ]
  },
  {
   "cell_type": "code",
   "execution_count": 83,
   "id": "456c4276",
   "metadata": {},
   "outputs": [],
   "source": [
    "def gender (x):\n",
    "    if x.Gender == 'Male' :\n",
    "        return '1'\n",
    "    elif x.Gender == 'Female'  :\n",
    "        return '0'\n",
    "    elif x.Gender == '1'  :\n",
    "        return '1'\n",
    "    else :\n",
    "        return '0'"
   ]
  },
  {
   "cell_type": "code",
   "execution_count": 84,
   "id": "b99920e3",
   "metadata": {},
   "outputs": [],
   "source": [
    "#converting males to 1 and females to 0 \n",
    "Films.Gender = Films.apply(gender, axis=1)"
   ]
  },
  {
   "cell_type": "code",
   "execution_count": 85,
   "id": "9f624798",
   "metadata": {},
   "outputs": [],
   "source": [
    "def married_status (x):\n",
    "    if x.Marital_Status == 'Married' :\n",
    "        return '1'\n",
    "    elif x.Marital_Status == 'Single'  :\n",
    "        return '0'\n",
    "    elif x.Marital_Status == '1'  :\n",
    "        return '1'\n",
    "    else :\n",
    "        return '0'"
   ]
  },
  {
   "cell_type": "code",
   "execution_count": 86,
   "id": "99f4e0e5",
   "metadata": {},
   "outputs": [],
   "source": [
    "#converting married to 1 and singles to 0\n",
    "Films.Marital_Status = Films.apply(married_status, axis=1)"
   ]
  },
  {
   "cell_type": "markdown",
   "id": "da38bac1",
   "metadata": {},
   "source": [
    "### 5(a) What is the overall level of customer satisfaction?"
   ]
  },
  {
   "cell_type": "code",
   "execution_count": 87,
   "id": "6b30b3c5",
   "metadata": {},
   "outputs": [],
   "source": [
    "mean = Films.Overall.mean()"
   ]
  },
  {
   "cell_type": "code",
   "execution_count": 88,
   "id": "2b0431be",
   "metadata": {},
   "outputs": [],
   "source": [
    "std = Films.Overall.std()"
   ]
  },
  {
   "cell_type": "code",
   "execution_count": 89,
   "id": "824d94c9",
   "metadata": {},
   "outputs": [],
   "source": [
    "SE = std/(np.sqrt(Films.shape[0]))"
   ]
  },
  {
   "cell_type": "code",
   "execution_count": 90,
   "id": "d1f7edda",
   "metadata": {},
   "outputs": [
    {
     "data": {
      "text/plain": [
       "1.5469994901816928"
      ]
     },
     "execution_count": 90,
     "metadata": {},
     "output_type": "execute_result"
    }
   ],
   "source": [
    "mean-(1.96*SE)"
   ]
  },
  {
   "cell_type": "code",
   "execution_count": 91,
   "id": "24b66219",
   "metadata": {},
   "outputs": [
    {
     "data": {
      "text/plain": [
       "1.6954247522425494"
      ]
     },
     "execution_count": 91,
     "metadata": {},
     "output_type": "execute_result"
    }
   ],
   "source": [
    "mean+(1.96*SE)"
   ]
  },
  {
   "cell_type": "code",
   "execution_count": 92,
   "id": "7c4ab1ba",
   "metadata": {},
   "outputs": [],
   "source": [
    "#With 95% confidence levels,the overall level of customer satisfaction will be in the range (1.5469994901816928,1.6954247522425494)"
   ]
  },
  {
   "cell_type": "markdown",
   "id": "3e4a50dc",
   "metadata": {},
   "source": [
    "### 5(b)What factors are linked to satisfaction?"
   ]
  },
  {
   "cell_type": "raw",
   "id": "eb40e153",
   "metadata": {},
   "source": [
    "Step1:\n",
    "    \n",
    "Ho : there is no relation \n",
    "Ha : there is relation \n",
    "\n",
    "Step2:\n",
    "Collect the data\n",
    "\n",
    "Step3:\n",
    "\n",
    "Confidence level   : 95%\n",
    "Significance level : 5%        pcritical : 0.05"
   ]
  },
  {
   "cell_type": "code",
   "execution_count": 94,
   "id": "7ec40023",
   "metadata": {},
   "outputs": [],
   "source": [
    "observed1 = pd.crosstab( Films.Sinage,Films.Overall )"
   ]
  },
  {
   "cell_type": "code",
   "execution_count": 95,
   "id": "840051b1",
   "metadata": {},
   "outputs": [],
   "source": [
    "#Conduct the chi-square\n",
    "\n",
    "t5 = stats.chi2_contingency(observed1)"
   ]
  },
  {
   "cell_type": "code",
   "execution_count": 96,
   "id": "52165d2d",
   "metadata": {},
   "outputs": [
    {
     "data": {
      "text/plain": [
       "4.53298970003405e-19"
      ]
     },
     "execution_count": 96,
     "metadata": {},
     "output_type": "execute_result"
    }
   ],
   "source": [
    "t5.pvalue"
   ]
  },
  {
   "cell_type": "code",
   "execution_count": 97,
   "id": "04dd8275",
   "metadata": {},
   "outputs": [
    {
     "data": {
      "text/plain": [
       "125.61859671027881"
      ]
     },
     "execution_count": 97,
     "metadata": {},
     "output_type": "execute_result"
    }
   ],
   "source": [
    "t5.statistic"
   ]
  },
  {
   "cell_type": "code",
   "execution_count": 98,
   "id": "49dd629b",
   "metadata": {},
   "outputs": [],
   "source": [
    "# conclusion\n",
    "# Reject the Null Hypothesis\n",
    "# with increase in sinage rating overall staifaction is also increases"
   ]
  },
  {
   "cell_type": "code",
   "execution_count": 99,
   "id": "03882f63",
   "metadata": {},
   "outputs": [],
   "source": [
    "observed2 = pd.crosstab( Films.Parking,Films.Overall )"
   ]
  },
  {
   "cell_type": "code",
   "execution_count": 100,
   "id": "9776ca31",
   "metadata": {},
   "outputs": [],
   "source": [
    "t6 = stats.chi2_contingency(observed2)"
   ]
  },
  {
   "cell_type": "code",
   "execution_count": 101,
   "id": "7065882c",
   "metadata": {},
   "outputs": [
    {
     "data": {
      "text/plain": [
       "4.783162283608494e-40"
      ]
     },
     "execution_count": 101,
     "metadata": {},
     "output_type": "execute_result"
    }
   ],
   "source": [
    "t6.pvalue"
   ]
  },
  {
   "cell_type": "code",
   "execution_count": 102,
   "id": "56c1d4f2",
   "metadata": {},
   "outputs": [
    {
     "data": {
      "text/plain": [
       "230.61691663391676"
      ]
     },
     "execution_count": 102,
     "metadata": {},
     "output_type": "execute_result"
    }
   ],
   "source": [
    "t6.statistic"
   ]
  },
  {
   "cell_type": "code",
   "execution_count": 103,
   "id": "ac36e70e",
   "metadata": {},
   "outputs": [],
   "source": [
    "# conclusion\n",
    "# Reject the Null Hypothesis\n",
    "# with increase in sinage rating overall staifaction is also increases"
   ]
  },
  {
   "cell_type": "markdown",
   "id": "1869224b",
   "metadata": {},
   "source": [
    "### 5(c) What is the demographic profile of Film on the Rocks patrons?"
   ]
  },
  {
   "cell_type": "code",
   "execution_count": 104,
   "id": "ad91b7ca",
   "metadata": {},
   "outputs": [
    {
     "data": {
      "text/html": [
       "<div>\n",
       "<style scoped>\n",
       "    .dataframe tbody tr th:only-of-type {\n",
       "        vertical-align: middle;\n",
       "    }\n",
       "\n",
       "    .dataframe tbody tr th {\n",
       "        vertical-align: top;\n",
       "    }\n",
       "\n",
       "    .dataframe thead th {\n",
       "        text-align: right;\n",
       "    }\n",
       "</style>\n",
       "<table border=\"1\" class=\"dataframe\">\n",
       "  <thead>\n",
       "    <tr style=\"text-align: right;\">\n",
       "      <th></th>\n",
       "      <th>Gender</th>\n",
       "      <th>count</th>\n",
       "      <th>Prob</th>\n",
       "    </tr>\n",
       "  </thead>\n",
       "  <tbody>\n",
       "    <tr>\n",
       "      <th>0</th>\n",
       "      <td>0</td>\n",
       "      <td>213</td>\n",
       "      <td>0.645455</td>\n",
       "    </tr>\n",
       "    <tr>\n",
       "      <th>1</th>\n",
       "      <td>1</td>\n",
       "      <td>117</td>\n",
       "      <td>0.354545</td>\n",
       "    </tr>\n",
       "  </tbody>\n",
       "</table>\n",
       "</div>"
      ],
      "text/plain": [
       "  Gender  count      Prob\n",
       "0      0    213  0.645455\n",
       "1      1    117  0.354545"
      ]
     },
     "execution_count": 104,
     "metadata": {},
     "output_type": "execute_result"
    }
   ],
   "source": [
    "#For gender\n",
    "gender = Films.groupby('Gender')[['Gender']].count()\n",
    "gender = gender.rename( columns={'Gender': 'count'}).reset_index()\n",
    "gender['Prob'] = gender['count'] / gender['count'].sum()\n",
    "gender"
   ]
  },
  {
   "cell_type": "code",
   "execution_count": 105,
   "id": "bf79e3dd",
   "metadata": {},
   "outputs": [],
   "source": [
    "#This shows that 64% audience if Female"
   ]
  },
  {
   "cell_type": "code",
   "execution_count": 106,
   "id": "507eb74e",
   "metadata": {},
   "outputs": [
    {
     "data": {
      "text/html": [
       "<div>\n",
       "<style scoped>\n",
       "    .dataframe tbody tr th:only-of-type {\n",
       "        vertical-align: middle;\n",
       "    }\n",
       "\n",
       "    .dataframe tbody tr th {\n",
       "        vertical-align: top;\n",
       "    }\n",
       "\n",
       "    .dataframe thead th {\n",
       "        text-align: right;\n",
       "    }\n",
       "</style>\n",
       "<table border=\"1\" class=\"dataframe\">\n",
       "  <thead>\n",
       "    <tr style=\"text-align: right;\">\n",
       "      <th></th>\n",
       "      <th>Marital_Status</th>\n",
       "      <th>count</th>\n",
       "      <th>Prob</th>\n",
       "    </tr>\n",
       "  </thead>\n",
       "  <tbody>\n",
       "    <tr>\n",
       "      <th>0</th>\n",
       "      <td>0</td>\n",
       "      <td>230</td>\n",
       "      <td>0.69697</td>\n",
       "    </tr>\n",
       "    <tr>\n",
       "      <th>1</th>\n",
       "      <td>1</td>\n",
       "      <td>100</td>\n",
       "      <td>0.30303</td>\n",
       "    </tr>\n",
       "  </tbody>\n",
       "</table>\n",
       "</div>"
      ],
      "text/plain": [
       "  Marital_Status  count     Prob\n",
       "0              0    230  0.69697\n",
       "1              1    100  0.30303"
      ]
     },
     "execution_count": 106,
     "metadata": {},
     "output_type": "execute_result"
    }
   ],
   "source": [
    "# For Marital  Status\n",
    "\n",
    "Marital_Status = Films.groupby('Marital_Status')[['Marital_Status']].count()\n",
    "Marital_Status = Marital_Status.rename(columns={'Marital_Status' : 'count'}).reset_index()\n",
    "Marital_Status['Prob'] = Marital_Status['count']/Marital_Status['count'].sum()\n",
    "Marital_Status"
   ]
  },
  {
   "cell_type": "code",
   "execution_count": 107,
   "id": "436513d8",
   "metadata": {},
   "outputs": [],
   "source": [
    "# This shows that 69% audience is single"
   ]
  },
  {
   "cell_type": "code",
   "execution_count": 108,
   "id": "9514ecdf",
   "metadata": {},
   "outputs": [
    {
     "data": {
      "text/html": [
       "<div>\n",
       "<style scoped>\n",
       "    .dataframe tbody tr th:only-of-type {\n",
       "        vertical-align: middle;\n",
       "    }\n",
       "\n",
       "    .dataframe tbody tr th {\n",
       "        vertical-align: top;\n",
       "    }\n",
       "\n",
       "    .dataframe thead th {\n",
       "        text-align: right;\n",
       "    }\n",
       "</style>\n",
       "<table border=\"1\" class=\"dataframe\">\n",
       "  <thead>\n",
       "    <tr style=\"text-align: right;\">\n",
       "      <th></th>\n",
       "      <th>Income</th>\n",
       "      <th>count</th>\n",
       "      <th>Prob</th>\n",
       "    </tr>\n",
       "  </thead>\n",
       "  <tbody>\n",
       "    <tr>\n",
       "      <th>0</th>\n",
       "      <td>1.0</td>\n",
       "      <td>158</td>\n",
       "      <td>0.478788</td>\n",
       "    </tr>\n",
       "    <tr>\n",
       "      <th>1</th>\n",
       "      <td>2.0</td>\n",
       "      <td>82</td>\n",
       "      <td>0.248485</td>\n",
       "    </tr>\n",
       "    <tr>\n",
       "      <th>2</th>\n",
       "      <td>3.0</td>\n",
       "      <td>90</td>\n",
       "      <td>0.272727</td>\n",
       "    </tr>\n",
       "  </tbody>\n",
       "</table>\n",
       "</div>"
      ],
      "text/plain": [
       "   Income  count      Prob\n",
       "0     1.0    158  0.478788\n",
       "1     2.0     82  0.248485\n",
       "2     3.0     90  0.272727"
      ]
     },
     "execution_count": 108,
     "metadata": {},
     "output_type": "execute_result"
    }
   ],
   "source": [
    "#For Income basis\n",
    "\n",
    "Income = Films.groupby('Income')[['Income']].count()\n",
    "Income = Income.rename(columns={'Income' : 'count'}).reset_index()\n",
    "Income['Prob'] = Income['count']/Income['count'].sum()\n",
    "Income"
   ]
  },
  {
   "cell_type": "code",
   "execution_count": 109,
   "id": "a92ebecb",
   "metadata": {},
   "outputs": [],
   "source": [
    "#This shows that 47% auience has income less than 50K"
   ]
  },
  {
   "cell_type": "code",
   "execution_count": 110,
   "id": "c1c33220",
   "metadata": {},
   "outputs": [],
   "source": [
    "# On Age basis"
   ]
  },
  {
   "cell_type": "code",
   "execution_count": 111,
   "id": "0bc06254",
   "metadata": {},
   "outputs": [
    {
     "data": {
      "text/html": [
       "<div>\n",
       "<style scoped>\n",
       "    .dataframe tbody tr th:only-of-type {\n",
       "        vertical-align: middle;\n",
       "    }\n",
       "\n",
       "    .dataframe tbody tr th {\n",
       "        vertical-align: top;\n",
       "    }\n",
       "\n",
       "    .dataframe thead th {\n",
       "        text-align: right;\n",
       "    }\n",
       "</style>\n",
       "<table border=\"1\" class=\"dataframe\">\n",
       "  <thead>\n",
       "    <tr style=\"text-align: right;\">\n",
       "      <th></th>\n",
       "      <th>Age</th>\n",
       "      <th>count</th>\n",
       "      <th>Prob</th>\n",
       "    </tr>\n",
       "  </thead>\n",
       "  <tbody>\n",
       "    <tr>\n",
       "      <th>0</th>\n",
       "      <td>1.0</td>\n",
       "      <td>26</td>\n",
       "      <td>0.078788</td>\n",
       "    </tr>\n",
       "    <tr>\n",
       "      <th>1</th>\n",
       "      <td>2.0</td>\n",
       "      <td>177</td>\n",
       "      <td>0.536364</td>\n",
       "    </tr>\n",
       "    <tr>\n",
       "      <th>2</th>\n",
       "      <td>3.0</td>\n",
       "      <td>117</td>\n",
       "      <td>0.354545</td>\n",
       "    </tr>\n",
       "    <tr>\n",
       "      <th>3</th>\n",
       "      <td>4.0</td>\n",
       "      <td>10</td>\n",
       "      <td>0.030303</td>\n",
       "    </tr>\n",
       "  </tbody>\n",
       "</table>\n",
       "</div>"
      ],
      "text/plain": [
       "   Age  count      Prob\n",
       "0  1.0     26  0.078788\n",
       "1  2.0    177  0.536364\n",
       "2  3.0    117  0.354545\n",
       "3  4.0     10  0.030303"
      ]
     },
     "execution_count": 111,
     "metadata": {},
     "output_type": "execute_result"
    }
   ],
   "source": [
    "Age = Films.groupby('Age')[['Age']].count()\n",
    "Age = Age.rename(columns={'Age' : 'count'}).reset_index()\n",
    "Age['Prob'] = Age['count']/Age['count'].sum()\n",
    "Age"
   ]
  },
  {
   "cell_type": "code",
   "execution_count": 112,
   "id": "4b5ee92f",
   "metadata": {},
   "outputs": [],
   "source": [
    "#This shows that the age of 53% audience is between 13-30"
   ]
  },
  {
   "cell_type": "markdown",
   "id": "9125a912",
   "metadata": {},
   "source": [
    "### 5(d) In what media outlet(s) should the film series be advertised?"
   ]
  },
  {
   "cell_type": "code",
   "execution_count": 113,
   "id": "9a3dfcab",
   "metadata": {},
   "outputs": [
    {
     "data": {
      "text/html": [
       "<div>\n",
       "<style scoped>\n",
       "    .dataframe tbody tr th:only-of-type {\n",
       "        vertical-align: middle;\n",
       "    }\n",
       "\n",
       "    .dataframe tbody tr th {\n",
       "        vertical-align: top;\n",
       "    }\n",
       "\n",
       "    .dataframe thead th {\n",
       "        text-align: right;\n",
       "    }\n",
       "</style>\n",
       "<table border=\"1\" class=\"dataframe\">\n",
       "  <thead>\n",
       "    <tr style=\"text-align: right;\">\n",
       "      <th></th>\n",
       "      <th>Hear_About</th>\n",
       "      <th>count</th>\n",
       "      <th>Prob</th>\n",
       "    </tr>\n",
       "  </thead>\n",
       "  <tbody>\n",
       "    <tr>\n",
       "      <th>9</th>\n",
       "      <td>5</td>\n",
       "      <td>233</td>\n",
       "      <td>0.706061</td>\n",
       "    </tr>\n",
       "    <tr>\n",
       "      <th>7</th>\n",
       "      <td>4</td>\n",
       "      <td>41</td>\n",
       "      <td>0.124242</td>\n",
       "    </tr>\n",
       "    <tr>\n",
       "      <th>0</th>\n",
       "      <td>1</td>\n",
       "      <td>22</td>\n",
       "      <td>0.066667</td>\n",
       "    </tr>\n",
       "    <tr>\n",
       "      <th>4</th>\n",
       "      <td>3</td>\n",
       "      <td>14</td>\n",
       "      <td>0.042424</td>\n",
       "    </tr>\n",
       "    <tr>\n",
       "      <th>2</th>\n",
       "      <td>2</td>\n",
       "      <td>12</td>\n",
       "      <td>0.036364</td>\n",
       "    </tr>\n",
       "    <tr>\n",
       "      <th>3</th>\n",
       "      <td>2,5</td>\n",
       "      <td>2</td>\n",
       "      <td>0.006061</td>\n",
       "    </tr>\n",
       "    <tr>\n",
       "      <th>5</th>\n",
       "      <td>3,4</td>\n",
       "      <td>2</td>\n",
       "      <td>0.006061</td>\n",
       "    </tr>\n",
       "    <tr>\n",
       "      <th>1</th>\n",
       "      <td>1,5</td>\n",
       "      <td>1</td>\n",
       "      <td>0.003030</td>\n",
       "    </tr>\n",
       "    <tr>\n",
       "      <th>6</th>\n",
       "      <td>3,5</td>\n",
       "      <td>1</td>\n",
       "      <td>0.003030</td>\n",
       "    </tr>\n",
       "    <tr>\n",
       "      <th>8</th>\n",
       "      <td>4,5</td>\n",
       "      <td>1</td>\n",
       "      <td>0.003030</td>\n",
       "    </tr>\n",
       "    <tr>\n",
       "      <th>10</th>\n",
       "      <td>5,4</td>\n",
       "      <td>1</td>\n",
       "      <td>0.003030</td>\n",
       "    </tr>\n",
       "  </tbody>\n",
       "</table>\n",
       "</div>"
      ],
      "text/plain": [
       "   Hear_About  count      Prob\n",
       "9           5    233  0.706061\n",
       "7           4     41  0.124242\n",
       "0           1     22  0.066667\n",
       "4           3     14  0.042424\n",
       "2           2     12  0.036364\n",
       "3         2,5      2  0.006061\n",
       "5         3,4      2  0.006061\n",
       "1         1,5      1  0.003030\n",
       "6         3,5      1  0.003030\n",
       "8         4,5      1  0.003030\n",
       "10        5,4      1  0.003030"
      ]
     },
     "execution_count": 113,
     "metadata": {},
     "output_type": "execute_result"
    }
   ],
   "source": [
    "Hear_About = Films.groupby('Hear_About')[['Hear_About']].count()\n",
    "Hear_About = Hear_About.rename(columns={'Hear_About' : 'count'}).reset_index()\n",
    "Hear_About['Prob'] = Hear_About['count']/Hear_About['count'].sum()\n",
    "Hear_About.sort_values(by='Prob',ascending=False)"
   ]
  },
  {
   "cell_type": "code",
   "execution_count": 114,
   "id": "f673a713",
   "metadata": {},
   "outputs": [],
   "source": [
    "#This shows that there is 70% probability that the audiance heard about the film series solely through word of mouth"
   ]
  }
 ],
 "metadata": {
  "kernelspec": {
   "display_name": "Python 3 (ipykernel)",
   "language": "python",
   "name": "python3"
  },
  "language_info": {
   "codemirror_mode": {
    "name": "ipython",
    "version": 3
   },
   "file_extension": ".py",
   "mimetype": "text/x-python",
   "name": "python",
   "nbconvert_exporter": "python",
   "pygments_lexer": "ipython3",
   "version": "3.11.5"
  }
 },
 "nbformat": 4,
 "nbformat_minor": 5
}
